{
 "cells": [
  {
   "cell_type": "code",
   "execution_count": null,
   "id": "5e116b23",
   "metadata": {},
   "outputs": [],
   "source": [
    "!pip install --upgrade numpy --target ./python\n",
    "!pip install --upgrade numexpr --target ./python\n",
    "!pip install --upgrade nltk --target ./python"
   ]
  },
  {
   "cell_type": "code",
   "execution_count": null,
   "id": "94688a8b",
   "metadata": {},
   "outputs": [],
   "source": [
    "import sys\n",
    "sys.path.append(r\"./python\")\n",
    "\n",
    "import os\n",
    "import json\n",
    "import traceback\n",
    "import urllib.parse\n",
    "import boto3\n",
    "from datetime import datetime\n",
    "import time\n",
    "from python.smart_search import SmartSearchQA"
   ]
  },
  {
   "cell_type": "code",
   "execution_count": null,
   "id": "d6932c6c",
   "metadata": {},
   "outputs": [],
   "source": [
    "#根据时间情况修改index和language值\n",
    "\n",
    "index =  \"data_index_test\"\n",
    "language = \"english\"\n",
    "EMBEDDING_ENDPOINT_NAME = \"huggingface-inference-eb\"\n",
    "\n",
    "\n",
    "port = 443\n",
    "bulk_size = 10000000\n",
    "\n",
    "\n",
    "sm_client = boto3.client('secretsmanager')\n",
    "master_user = sm_client.get_secret_value(SecretId='opensearch-host-url')['SecretString']\n",
    "data= json.loads(master_user)\n",
    "es_host_name = data.get('host')\n",
    "host = es_host_name+'/' if es_host_name[-1] != '/' else es_host_name# cluster endpoint, for example: my-test-domain.us-east-1.es.amazonaws.com/\n",
    "host = host[8:-1]\n",
    "region = boto3.Session().region_name # e.g. cn-north-1\n",
    "print('host:',host)\n",
    "print('region:',region)\n",
    "\n",
    "# retrieve secret manager value by key using boto3                                             \n",
    "sm_client = boto3.client('secretsmanager')\n",
    "master_user = sm_client.get_secret_value(SecretId='opensearch-master-user')['SecretString']\n",
    "data= json.loads(master_user)\n",
    "username = data.get('username')\n",
    "password = data.get('password')\n"
   ]
  },
  {
   "cell_type": "code",
   "execution_count": null,
   "id": "1c1833d1",
   "metadata": {},
   "outputs": [],
   "source": [
    "sys.path.append(r\"./python\")\n",
    "if language == \"english\":\n",
    "    import nltk\n",
    "    nltk.download('punkt')\n",
    "\n",
    "search_qa = SmartSearchQA()\n",
    "search_qa.init_cfg(index,\n",
    "                 username,\n",
    "                 password,\n",
    "                 host,\n",
    "                 port,\n",
    "                 EMBEDDING_ENDPOINT_NAME,\n",
    "                 region,\n",
    "                 language=language\n",
    "                 )\n",
    "\n",
    "local_path = \"../docs/\"\n",
    "\n",
    "chunk_size = 1500\n",
    "\n",
    "files = os.listdir(local_path)\n",
    "i = 0\n",
    "for file in files:\n",
    "    local_file = local_path+file\n",
    "    now1 = datetime.now()#begin time\n",
    "    loaded_files = search_qa.init_knowledge_vector(local_file,bulk_size,chunk_size)\n",
    "    now2 = datetime.now()#endtime\n",
    "    i += 1\n",
    "    print(i,\" Complete the import of the following documents:\", str(loaded_files),\" File import takes time:\",now2-now1 )\n",
    "\n"
   ]
  },
  {
   "cell_type": "code",
   "execution_count": null,
   "id": "2c648694",
   "metadata": {},
   "outputs": [],
   "source": []
  }
 ],
 "metadata": {
  "kernelspec": {
   "display_name": "conda_pytorch_p39",
   "language": "python",
   "name": "conda_pytorch_p39"
  },
  "language_info": {
   "codemirror_mode": {
    "name": "ipython",
    "version": 3
   },
   "file_extension": ".py",
   "mimetype": "text/x-python",
   "name": "python",
   "nbconvert_exporter": "python",
   "pygments_lexer": "ipython3",
   "version": "3.9.15"
  }
 },
 "nbformat": 4,
 "nbformat_minor": 5
}
