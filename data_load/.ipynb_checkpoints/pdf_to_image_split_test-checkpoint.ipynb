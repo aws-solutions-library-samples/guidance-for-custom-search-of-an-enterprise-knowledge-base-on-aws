{
 "cells": [
  {
   "cell_type": "code",
   "execution_count": null,
   "id": "676e641e-e468-4821-ab38-b7f662b38986",
   "metadata": {},
   "outputs": [],
   "source": [
    "import sys\n",
    "sys.path.append(r\"./python\")\n",
    "\n",
    "from model import init_model_bedrock\n",
    "\n",
    "model_name = \"anthropic.claude-3-sonnet-20240229-v1:0\"\n",
    "llm = init_model_bedrock(model_name)"
   ]
  },
  {
   "cell_type": "code",
   "execution_count": null,
   "id": "2573c907-9f8f-48cb-8587-8812676648fa",
   "metadata": {},
   "outputs": [],
   "source": [
    "from tqdm import tqdm\n",
    "import fitz\n",
    "from PIL import Image\n",
    "import numpy as np\n",
    "import base64\n",
    "\n",
    "# prompt = \"\"\"\n",
    "# You are a document organizer of bicycle company and your task is to extract useful information from images.Please refer to the format of the content of the previous page to extract text information from the image on the current page.\n",
    "# If the content on this page contains tables or maintenance process, please organize the tables or maintenance process into json format. \n",
    "# If the content of this page is a table and has no header, use the header of the previous page. \n",
    "# If the content of this page is a maintenance process and does not specify the specific maintenance object, use the maintenance object on the previous page.\n",
    "\n",
    "# <previous page content>\n",
    "# {context}\n",
    "# </previous page content>\n",
    "# No preface, just output the content directly.\n",
    "# \"\"\"\n",
    "\n",
    "prompt = \"\"\"\n",
    "You are a document organizer of Research institute and your task is to extract useful information from images.\n",
    "Please refer to the format of the content of the previous page to extract text information from the image on the current page.\n",
    "If the content on this page contains tables or maintenance process, please organize the tables or maintenance process into json format. \n",
    "If the content of this page is a table and has no header, use the header of the previous page. \n",
    "If The text content at the front of the page has no title , use the title on the previous page.\n",
    "\n",
    "<previous page content>\n",
    "{context}\n",
    "</previous page content>\n",
    "No preface, just output the content directly.\n",
    "\"\"\"\n",
    "\n",
    "fname = '../docs/xxxx.pdf'\n",
    "doc = fitz.open(fname)\n",
    "previous_page_content = ''\n",
    "\n",
    "for i in tqdm(range(doc.page_count)):\n",
    "    page = doc.load_page(i)\n",
    "    pix = page.get_pixmap()\n",
    "    imgb64 = base64.b64encode(pix.tobytes()).decode(\"utf-8\")\n",
    "    #print('imgb64:',imgb64)\n",
    "    model_kwargs = {'image': imgb64,'max_tokens':2048}\n",
    "    llm.model_kwargs = model_kwargs\n",
    "    new_prompt = prompt.format(context=previous_page_content)\n",
    "    response = llm(prompt=new_prompt)\n",
    "    previous_page_content = response\n",
    "    print('response:',response)"
   ]
  },
  {
   "cell_type": "code",
   "execution_count": null,
   "id": "96f54ca5-e754-4a22-a32f-4236d9e2ea86",
   "metadata": {},
   "outputs": [],
   "source": []
  }
 ],
 "metadata": {
  "kernelspec": {
   "display_name": "conda_pytorch_p310",
   "language": "python",
   "name": "conda_pytorch_p310"
  },
  "language_info": {
   "codemirror_mode": {
    "name": "ipython",
    "version": 3
   },
   "file_extension": ".py",
   "mimetype": "text/x-python",
   "name": "python",
   "nbconvert_exporter": "python",
   "pygments_lexer": "ipython3",
   "version": "3.10.13"
  }
 },
 "nbformat": 4,
 "nbformat_minor": 5
}
