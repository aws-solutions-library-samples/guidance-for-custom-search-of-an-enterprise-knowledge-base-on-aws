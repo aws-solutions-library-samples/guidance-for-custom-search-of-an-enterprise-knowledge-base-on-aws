{
 "cells": [
  {
   "cell_type": "markdown",
   "id": "5248b609-9b7a-46e0-810c-6497d863bc5a",
   "metadata": {},
   "source": [
    "### Split large CSV file"
   ]
  },
  {
   "cell_type": "code",
   "execution_count": 1,
   "id": "96017450-6409-4a3a-a08b-97fb93101e97",
   "metadata": {
    "tags": []
   },
   "outputs": [],
   "source": [
    "# coding:utf-8\n",
    "#当前的项目名：csv\n",
    "#当前编辑文件名：csv_split\n",
    "#当前用户的登录名：kirin\n",
    "#当前系统日期时间：2021/4/2 10:27\n",
    "#用于创建文件的IDE的名称: PyCharm\n",
    "import csv\n",
    "class CsvSplit:\n",
    "    def __init__(self,file_path,line=50):\n",
    "        '''\n",
    "        :param file_path: 切割文件路径\n",
    "        :param line: 文件切割后单个文件行数\n",
    "        '''\n",
    "        self.file_path=file_path # 需要切割的csv文件，\n",
    "        self.cs=csv.reader(open(file_path,'r',encoding='utf-8')) # 打开被切割文件\n",
    "        self.head=self.cs.__next__() # 标题行\n",
    "        self.count=0 # 统计下标\n",
    "        self.fname=0 # 文件数字命名\n",
    "        self.lis=[] # 单次切割文件行数列表 50行\n",
    "        self.line=line # 默认行50 可以根据实际调整\n",
    "        self.run() # 初始化开始分割\n",
    "    def file_write(self):\n",
    "        write = csv.writer(open(f'./{str(self.fname)}.csv', 'a+', encoding='utf-8', newline=''))  # 新建文件开始保存\n",
    "        write.writerow(self.head)  # 标题行写入\n",
    "        write.writerows(self.lis)  # 数据行写入\n",
    "    def run(self):\n",
    "        for row in self.cs:\n",
    "            self.count+=1 # 统计下标+1\n",
    "            if self.count>=self.line: # 到达行数就进行切割保存\n",
    "                self.file_write()\n",
    "                self.fname += 1 # 文件数字序列号+1\n",
    "                self.count=0 # 统计下标置空\n",
    "                self.lis=[] # 数据行列表清空\n",
    "            self.lis.append(row)\n",
    "        # 最后一个文件写入\n",
    "        self.file_write()\n",
    "        \n"
   ]
  },
  {
   "cell_type": "code",
   "execution_count": 2,
   "id": "ba4849f6-2f68-4a03-8e0a-7e88868f3abc",
   "metadata": {
    "tags": []
   },
   "outputs": [
    {
     "data": {
      "text/plain": [
       "<__main__.CsvSplit at 0x7fa8e95a6140>"
      ]
     },
     "execution_count": 2,
     "metadata": {},
     "output_type": "execute_result"
    }
   ],
   "source": [
    "# 第一个参数为 文件路径 第二个参数为切割行数 默认生成文件在同级目录\n",
    "CsvSplit('./docs/8.csv',20)"
   ]
  },
  {
   "cell_type": "code",
   "execution_count": null,
   "id": "23512f0d-5d7d-4b5e-9e05-00f42bc8416a",
   "metadata": {},
   "outputs": [],
   "source": []
  }
 ],
 "metadata": {
  "kernelspec": {
   "display_name": "conda_python3",
   "language": "python",
   "name": "conda_python3"
  },
  "language_info": {
   "codemirror_mode": {
    "name": "ipython",
    "version": 3
   },
   "file_extension": ".py",
   "mimetype": "text/x-python",
   "name": "python",
   "nbconvert_exporter": "python",
   "pygments_lexer": "ipython3",
   "version": "3.10.12"
  }
 },
 "nbformat": 4,
 "nbformat_minor": 5
}
