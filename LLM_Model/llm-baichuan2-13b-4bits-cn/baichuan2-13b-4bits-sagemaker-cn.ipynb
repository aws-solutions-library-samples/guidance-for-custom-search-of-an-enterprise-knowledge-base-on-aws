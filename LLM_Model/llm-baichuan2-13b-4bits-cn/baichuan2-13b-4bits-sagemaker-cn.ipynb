{
 "cells": [
  {
   "cell_type": "code",
   "execution_count": null,
   "id": "b8f2c403",
   "metadata": {
    "tags": []
   },
   "outputs": [],
   "source": [
    "!pip install --upgrade boto3 -i https://pypi.tuna.tsinghua.edu.cn/simple\n",
    "!pip install --upgrade sagemaker -i https://pypi.tuna.tsinghua.edu.cn/simple"
   ]
  },
  {
   "cell_type": "code",
   "execution_count": null,
   "id": "b00cef39-9998-4ecc-8e51-1a5b7ccf0a07",
   "metadata": {
    "tags": []
   },
   "outputs": [],
   "source": [
    "# For notebook instances (Amazon Linux)\n",
    "!sudo yum update -y\n",
    "!sudo yum install amazon-linux-extras\n",
    "!sudo amazon-linux-extras install epel -y\n",
    "!sudo yum update -y\n",
    "!sudo yum install git-lfs git -y"
   ]
  },
  {
   "cell_type": "code",
   "execution_count": null,
   "id": "f689fc95-037e-4920-8174-34282bc615b4",
   "metadata": {
    "tags": []
   },
   "outputs": [],
   "source": [
    "#下载模型snapshot到本地，需要25G空间\n",
    "#需大约15-30分钟时间，请耐心等待, 如果左侧大括号内还是[*]，就还在下载中，*变成任意数例如[3]就证明已完成\n",
    "\n",
    "from pathlib import Path\n",
    "local_model_path = Path(\"./Baichuan2-13B-Chat-4bits\")\n",
    "local_model_path.mkdir(exist_ok=True)\n",
    "model_name = \"Baichuan-inc/Baichuan2-13B-Chat-4bits\"\n",
    "clone_path = f\"https://www.wisemodel.cn/{model_name}.git\"\n",
    "print(clone_path)\n",
    "\n",
    "!git lfs install\n",
    "!git clone $clone_path"
   ]
  },
  {
   "cell_type": "code",
   "execution_count": null,
   "id": "3e276411-bb6f-4a76-8601-1f7cb5c179ef",
   "metadata": {
    "tags": []
   },
   "outputs": [],
   "source": [
    "#定义本地路径model_snapshot_path，以及s3路径s3_location，方便下一步从本地将模型snapshot上传到s3\n",
    "\n",
    "import sagemaker\n",
    "\n",
    "sagemaker_session = sagemaker.Session()\n",
    "sagemaker_session_bucket = sagemaker_session.default_bucket()\n",
    "s3_location = f\"s3://{sagemaker_session_bucket}/{model_name.split('/')[-1]}/\"\n",
    "\n",
    "#你也可以把local_model_path直接替换成你的模型路径，例\"model_snapshot_path=./chatglm3-6b\", 这个文件夹里需要包含config.json\n",
    "model_snapshot_path = local_model_path\n",
    "\n",
    "print(f\"model_snapshot_path: {model_snapshot_path}\")\n",
    "print(\"s3_location:\",s3_location)"
   ]
  },
  {
   "cell_type": "code",
   "execution_count": null,
   "id": "c86bbadd-c9b9-434c-b1a8-167f0e140891",
   "metadata": {
    "tags": []
   },
   "outputs": [],
   "source": [
    "#上传模型\n",
    "!aws s3 sync $model_snapshot_path $s3_location"
   ]
  },
  {
   "cell_type": "code",
   "execution_count": null,
   "id": "5b964e4c-2578-4a2b-9cb5-c750b3a3e7c2",
   "metadata": {},
   "outputs": [],
   "source": [
    "#将模型的s3路径更新到inference.py中\n",
    "!sed -i 's|s3_location =.*|s3_location = \\\"{s3_location}\\\"|' code/inference.py"
   ]
  },
  {
   "cell_type": "code",
   "execution_count": null,
   "id": "76deb1bf-fece-45b2-8c0c-ab204fb5a3b5",
   "metadata": {
    "tags": []
   },
   "outputs": [],
   "source": [
    "#开始部署\n",
    "\n",
    "import boto3\n",
    "import sagemaker\n",
    "\n",
    "account_id = boto3.client('sts').get_caller_identity().get('Account')\n",
    "region_name = boto3.session.Session().region_name\n",
    "\n",
    "sagemaker_session = sagemaker.Session()\n",
    "bucket = sagemaker_session.default_bucket()\n",
    "role = sagemaker.get_execution_role()\n",
    "\n",
    "print(role)\n",
    "print(bucket)\n",
    "print(region_name)\n",
    "\n",
    "\n",
    "if \"cn-\" in region_name:\n",
    "    with open('./code/requirements.txt', 'r') as original: data = original.read()\n",
    "    with open('./code/requirements.txt', 'w') as modified: modified.write(\"-i https://pypi.tuna.tsinghua.edu.cn/simple\\n\" + data)\n",
    "\n",
    "!touch dummy\n",
    "!tar czvf model.tar.gz dummy\n",
    "assets_dir = 's3://{0}/{1}/assets/'.format(bucket, 'llm_chinese')\n",
    "model_data = 's3://{0}/{1}/assets/model.tar.gz'.format(bucket, 'llm_chinese')\n",
    "!aws s3 cp model.tar.gz $assets_dir\n",
    "!rm -f dummy model.tar.gz\n",
    "\n",
    "model_name = None\n",
    "entry_point = 'inference.py'\n",
    "\n",
    "url = f'763104351884.dkr.ecr.{region_name}.amazonaws.com/huggingface-pytorch-inference:2.0.0-transformers4.28.1-gpu-py310-cu118-ubuntu20.04'\n",
    "if \"cn-\" in region_name:\n",
    "    url = f'727897471807.dkr.ecr.{region_name}.amazonaws.com.cn/huggingface-pytorch-inference:2.0.0-transformers4.28.1-gpu-py310-cu118-ubuntu20.04'\n",
    "    \n",
    "from sagemaker.huggingface.model import HuggingFaceModel\n",
    "model = HuggingFaceModel(\n",
    "    name = model_name,\n",
    "    model_data = model_data,\n",
    "    entry_point = entry_point,\n",
    "    source_dir = './code',\n",
    "    role = role,\n",
    "    image_uri=url\n",
    ")\n",
    "\n",
    "\n",
    "endpoint_name = 'pytorch-inference-llm-v1'\n",
    "instance_type='ml.g4dn.4xlarge' \n",
    "\n",
    "instance_count = 1\n",
    "\n",
    "\n",
    "import boto3\n",
    "\n",
    "client = boto3.client('sagemaker')\n",
    "try:\n",
    "    response = client.delete_endpoint_config(EndpointConfigName=endpoint_name)\n",
    "except:\n",
    "    pass\n",
    "\n",
    "\n",
    "from sagemaker.serializers import JSONSerializer\n",
    "from sagemaker.deserializers import JSONDeserializer\n",
    "predictor = model.deploy(\n",
    "    endpoint_name = endpoint_name,\n",
    "    instance_type = instance_type, \n",
    "    initial_instance_count = instance_count,\n",
    "    serializer = JSONSerializer(),\n",
    "    deserializer = JSONDeserializer()\n",
    ")"
   ]
  },
  {
   "cell_type": "markdown",
   "id": "f6f59e3f",
   "metadata": {},
   "source": [
    "### 测试\n"
   ]
  },
  {
   "cell_type": "code",
   "execution_count": null,
   "id": "ada7d8b9",
   "metadata": {
    "tags": []
   },
   "outputs": [],
   "source": [
    "#休眠5分钟,确保模型可以完全加载\n",
    "import time\n",
    "time.sleep(300)"
   ]
  },
  {
   "cell_type": "code",
   "execution_count": null,
   "id": "8e48e6e1",
   "metadata": {
    "tags": []
   },
   "outputs": [],
   "source": [
    "inputs= {\n",
    "    \"ask\": \"你好!\"\n",
    "\n",
    "}\n",
    "\n",
    "response = predictor.predict(inputs)\n",
    "print(response[\"answer\"])\n",
    "\n",
    "inputs= {\n",
    "    \"ask\": \"晚上睡不着应该怎么办\"\n",
    "\n",
    "}\n",
    "\n",
    "response = predictor.predict(inputs)\n",
    "print(response[\"answer\"])"
   ]
  },
  {
   "cell_type": "markdown",
   "id": "1c2dcc6a",
   "metadata": {},
   "source": [
    "### 删除SageMaker  Endpoint\n",
    "删除推理服务"
   ]
  },
  {
   "cell_type": "code",
   "execution_count": null,
   "id": "c329e2d3",
   "metadata": {},
   "outputs": [],
   "source": [
    "predictor.delete_endpoint()"
   ]
  }
 ],
 "metadata": {
  "kernelspec": {
   "display_name": "conda_python3",
   "language": "python",
   "name": "conda_python3"
  },
  "language_info": {
   "codemirror_mode": {
    "name": "ipython",
    "version": 3
   },
   "file_extension": ".py",
   "mimetype": "text/x-python",
   "name": "python",
   "nbconvert_exporter": "python",
   "pygments_lexer": "ipython3",
   "version": "3.10.12"
  }
 },
 "nbformat": 4,
 "nbformat_minor": 5
}
