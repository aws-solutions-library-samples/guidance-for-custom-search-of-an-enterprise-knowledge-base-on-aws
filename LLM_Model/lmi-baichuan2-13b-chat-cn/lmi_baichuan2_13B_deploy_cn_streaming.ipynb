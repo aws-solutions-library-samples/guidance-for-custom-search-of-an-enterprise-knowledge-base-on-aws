{
 "cells": [
  {
   "cell_type": "markdown",
   "id": "c261e5f4-17a8-40da-beb9-599f1717e0fe",
   "metadata": {
    "tags": []
   },
   "source": [
    "### 1. 下载模型到本地"
   ]
  },
  {
   "cell_type": "code",
   "execution_count": 2,
   "id": "fba6e1f1-d9f6-4c9e-8e30-928dbe34b398",
   "metadata": {
    "tags": []
   },
   "outputs": [
    {
     "name": "stdout",
     "output_type": "stream",
     "text": [
      "Loaded plugins: dkms-build-requires, extras_suggestions, kernel-livepatch,\n",
      "              : langpacks, priorities, update-motd, versionlock\n",
      "amzn2-core                                               | 3.6 kB     00:00     \n",
      "amzn2extra-docker                                        | 2.9 kB     00:00     \n",
      "amzn2extra-epel                                          | 3.0 kB     00:00     \n",
      "amzn2extra-kernel-5.10                                   | 3.0 kB     00:00     \n",
      "amzn2extra-livepatch                                     | 2.9 kB     00:00     \n",
      "amzn2extra-python3.8                                     | 2.9 kB     00:00     \n",
      "centos-extras                                            | 2.9 kB     00:00     \n",
      "copr:copr.fedorainfracloud.org:vbatts:shadow-utils-newxi | 3.3 kB     00:00     \n",
      "https://download.docker.com/linux/centos/2/x86_64/stable/repodata/repomd.xml: [Errno 14] HTTPS Error 404 - Not Found\n",
      "Trying other mirror.\n",
      "epel/x86_64/metalink                                     |  22 kB     00:00     \n",
      "epel                                                     | 4.7 kB     00:00     \n",
      "libnvidia-container/x86_64/signature                     |  833 B     00:00     \n",
      "libnvidia-container/x86_64/signature                     | 2.1 kB     00:02 !!! \n",
      "neuron                                                   | 2.9 kB     00:00     \n",
      "(1/3): epel/x86_64/updateinfo                              | 1.0 MB   00:00     \n",
      "(2/3): epel/x86_64/primary_db                              | 7.0 MB   00:00     \n",
      "(3/3): neuron/primary_db                                   | 153 kB   00:00     \n",
      "288 packages excluded due to repository priority protections\n",
      "Resolving Dependencies\n",
      "--> Running transaction check\n",
      "---> Package avahi-glib.x86_64 0:0.6.31-20.amzn2.0.2 will be updated\n",
      "---> Package avahi-glib.x86_64 0:0.6.31-20.amzn2.0.3 will be an update\n",
      "---> Package avahi-libs.x86_64 0:0.6.31-20.amzn2.0.2 will be updated\n",
      "---> Package avahi-libs.x86_64 0:0.6.31-20.amzn2.0.3 will be an update\n",
      "---> Package gawk.x86_64 0:4.0.2-4.amzn2.1.2 will be updated\n",
      "---> Package gawk.x86_64 0:4.0.2-4.amzn2.1.3 will be an update\n",
      "---> Package gmp.x86_64 1:6.0.0-15.amzn2.0.2 will be updated\n",
      "---> Package gmp.x86_64 1:6.0.0-15.amzn2.0.3 will be an update\n",
      "---> Package indent.x86_64 0:2.2.11-13.amzn2.0.2 will be updated\n",
      "---> Package indent.x86_64 0:2.2.11-13.amzn2.0.3 will be an update\n",
      "---> Package libX11.x86_64 0:1.6.7-3.amzn2.0.4 will be updated\n",
      "---> Package libX11.x86_64 0:1.6.7-3.amzn2.0.5 will be an update\n",
      "---> Package libX11-common.noarch 0:1.6.7-3.amzn2.0.4 will be updated\n",
      "---> Package libX11-common.noarch 0:1.6.7-3.amzn2.0.5 will be an update\n",
      "---> Package libarchive.x86_64 0:3.1.2-14.amzn2.0.1 will be updated\n",
      "---> Package libarchive.x86_64 0:3.1.2-14.amzn2.0.3 will be an update\n",
      "---> Package libseccomp.x86_64 0:2.4.1-1.amzn2 will be updated\n",
      "---> Package libseccomp.x86_64 0:2.5.2-1.amzn2 will be an update\n",
      "---> Package libtiff.x86_64 0:4.0.3-35.amzn2.0.19 will be updated\n",
      "---> Package libtiff.x86_64 0:4.0.3-35.amzn2.0.20 will be an update\n",
      "---> Package openssl.x86_64 1:1.0.2k-24.amzn2.0.10 will be updated\n",
      "---> Package openssl.x86_64 1:1.0.2k-24.amzn2.0.11 will be an update\n",
      "---> Package openssl-devel.x86_64 1:1.0.2k-24.amzn2.0.10 will be updated\n",
      "---> Package openssl-devel.x86_64 1:1.0.2k-24.amzn2.0.11 will be an update\n",
      "---> Package openssl-libs.x86_64 1:1.0.2k-24.amzn2.0.10 will be updated\n",
      "---> Package openssl-libs.x86_64 1:1.0.2k-24.amzn2.0.11 will be an update\n",
      "---> Package python3-pip.noarch 0:20.2.2-1.amzn2.0.4 will be updated\n",
      "---> Package python3-pip.noarch 0:20.2.2-1.amzn2.0.5 will be an update\n",
      "---> Package vim-common.x86_64 2:9.0.2081-1.amzn2.0.1 will be updated\n",
      "---> Package vim-common.x86_64 2:9.0.2120-1.amzn2.0.1 will be an update\n",
      "---> Package vim-data.noarch 2:9.0.2081-1.amzn2.0.1 will be updated\n",
      "---> Package vim-data.noarch 2:9.0.2120-1.amzn2.0.1 will be an update\n",
      "---> Package vim-enhanced.x86_64 2:9.0.2081-1.amzn2.0.1 will be updated\n",
      "---> Package vim-enhanced.x86_64 2:9.0.2120-1.amzn2.0.1 will be an update\n",
      "---> Package vim-filesystem.noarch 2:9.0.2081-1.amzn2.0.1 will be updated\n",
      "---> Package vim-filesystem.noarch 2:9.0.2120-1.amzn2.0.1 will be an update\n",
      "---> Package vim-minimal.x86_64 2:9.0.2081-1.amzn2.0.1 will be updated\n",
      "---> Package vim-minimal.x86_64 2:9.0.2120-1.amzn2.0.1 will be an update\n",
      "---> Package xxd.x86_64 2:9.0.2081-1.amzn2.0.1 will be updated\n",
      "---> Package xxd.x86_64 2:9.0.2120-1.amzn2.0.1 will be an update\n",
      "--> Finished Dependency Resolution\n",
      "\n",
      "Dependencies Resolved\n",
      "\n",
      "================================================================================\n",
      " Package            Arch       Version                     Repository      Size\n",
      "================================================================================\n",
      "Updating:\n",
      " avahi-glib         x86_64     0.6.31-20.amzn2.0.3         amzn2-core      25 k\n",
      " avahi-libs         x86_64     0.6.31-20.amzn2.0.3         amzn2-core      61 k\n",
      " gawk               x86_64     4.0.2-4.amzn2.1.3           amzn2-core     873 k\n",
      " gmp                x86_64     1:6.0.0-15.amzn2.0.3        amzn2-core     276 k\n",
      " indent             x86_64     2.2.11-13.amzn2.0.3         amzn2-core     149 k\n",
      " libX11             x86_64     1.6.7-3.amzn2.0.5           amzn2-core     607 k\n",
      " libX11-common      noarch     1.6.7-3.amzn2.0.5           amzn2-core     165 k\n",
      " libarchive         x86_64     3.1.2-14.amzn2.0.3          amzn2-core     312 k\n",
      " libseccomp         x86_64     2.5.2-1.amzn2               amzn2-core      65 k\n",
      " libtiff            x86_64     4.0.3-35.amzn2.0.20         amzn2-core     176 k\n",
      " openssl            x86_64     1:1.0.2k-24.amzn2.0.11      amzn2-core     497 k\n",
      " openssl-devel      x86_64     1:1.0.2k-24.amzn2.0.11      amzn2-core     1.5 M\n",
      " openssl-libs       x86_64     1:1.0.2k-24.amzn2.0.11      amzn2-core     1.2 M\n",
      " python3-pip        noarch     20.2.2-1.amzn2.0.5          amzn2-core     2.0 M\n",
      " vim-common         x86_64     2:9.0.2120-1.amzn2.0.1      amzn2-core     8.0 M\n",
      " vim-data           noarch     2:9.0.2120-1.amzn2.0.1      amzn2-core      83 k\n",
      " vim-enhanced       x86_64     2:9.0.2120-1.amzn2.0.1      amzn2-core     1.6 M\n",
      " vim-filesystem     noarch     2:9.0.2120-1.amzn2.0.1      amzn2-core      77 k\n",
      " vim-minimal        x86_64     2:9.0.2120-1.amzn2.0.1      amzn2-core     755 k\n",
      " xxd                x86_64     2:9.0.2120-1.amzn2.0.1      amzn2-core      94 k\n",
      "\n",
      "Transaction Summary\n",
      "================================================================================\n",
      "Upgrade  20 Packages\n",
      "\n",
      "Total download size: 18 M\n",
      "Downloading packages:\n",
      "Delta RPMs disabled because /usr/bin/applydeltarpm not installed.\n",
      "(1/20): avahi-glib-0.6.31-20.amzn2.0.3.x86_64.rpm          |  25 kB   00:00     \n",
      "(2/20): avahi-libs-0.6.31-20.amzn2.0.3.x86_64.rpm          |  61 kB   00:00     \n",
      "(3/20): gawk-4.0.2-4.amzn2.1.3.x86_64.rpm                  | 873 kB   00:00     \n",
      "(4/20): indent-2.2.11-13.amzn2.0.3.x86_64.rpm              | 149 kB   00:00     \n",
      "(5/20): gmp-6.0.0-15.amzn2.0.3.x86_64.rpm                  | 276 kB   00:00     \n",
      "(6/20): libX11-1.6.7-3.amzn2.0.5.x86_64.rpm                | 607 kB   00:00     \n",
      "(7/20): libarchive-3.1.2-14.amzn2.0.3.x86_64.rpm           | 312 kB   00:00     \n",
      "(8/20): libseccomp-2.5.2-1.amzn2.x86_64.rpm                |  65 kB   00:00     \n",
      "(9/20): libtiff-4.0.3-35.amzn2.0.20.x86_64.rpm             | 176 kB   00:00     \n",
      "(10/20): libX11-common-1.6.7-3.amzn2.0.5.noarch.rpm        | 165 kB   00:00     \n",
      "(11/20): openssl-1.0.2k-24.amzn2.0.11.x86_64.rpm           | 497 kB   00:00     \n",
      "(12/20): openssl-devel-1.0.2k-24.amzn2.0.11.x86_64.rpm     | 1.5 MB   00:00     \n",
      "(13/20): openssl-libs-1.0.2k-24.amzn2.0.11.x86_64.rpm      | 1.2 MB   00:00     \n",
      "(14/20): python3-pip-20.2.2-1.amzn2.0.5.noarch.rpm         | 2.0 MB   00:00     \n",
      "(15/20): vim-data-9.0.2120-1.amzn2.0.1.noarch.rpm          |  83 kB   00:00     \n",
      "(16/20): vim-enhanced-9.0.2120-1.amzn2.0.1.x86_64.rpm      | 1.6 MB   00:00     \n",
      "(17/20): vim-common-9.0.2120-1.amzn2.0.1.x86_64.rpm        | 8.0 MB   00:00     \n",
      "(18/20): vim-filesystem-9.0.2120-1.amzn2.0.1.noarch.rpm    |  77 kB   00:00     \n",
      "(19/20): vim-minimal-9.0.2120-1.amzn2.0.1.x86_64.rpm       | 755 kB   00:00     \n",
      "(20/20): xxd-9.0.2120-1.amzn2.0.1.x86_64.rpm               |  94 kB   00:00     \n",
      "--------------------------------------------------------------------------------\n",
      "Total                                               46 MB/s |  18 MB  00:00     \n",
      "Running transaction check\n",
      "Running transaction test\n",
      "Transaction test succeeded\n",
      "Running transaction\n",
      "  Updating   : 1:openssl-libs-1.0.2k-24.amzn2.0.11.x86_64                  1/40 \n",
      "  Updating   : 2:vim-data-9.0.2120-1.amzn2.0.1.noarch                      2/40 \n",
      "  Updating   : 2:vim-filesystem-9.0.2120-1.amzn2.0.1.noarch                3/40 \n",
      "  Updating   : 2:xxd-9.0.2120-1.amzn2.0.1.x86_64                           4/40 \n",
      "  Updating   : 2:vim-common-9.0.2120-1.amzn2.0.1.x86_64                    5/40 \n",
      "  Updating   : libX11-common-1.6.7-3.amzn2.0.5.noarch                      6/40 \n",
      "  Updating   : avahi-libs-0.6.31-20.amzn2.0.3.x86_64                       7/40 \n",
      "  Updating   : avahi-glib-0.6.31-20.amzn2.0.3.x86_64                       8/40 \n",
      "  Updating   : libX11-1.6.7-3.amzn2.0.5.x86_64                             9/40 \n",
      "  Updating   : 2:vim-enhanced-9.0.2120-1.amzn2.0.1.x86_64                 10/40 \n",
      "  Updating   : 2:vim-minimal-9.0.2120-1.amzn2.0.1.x86_64                  11/40 \n",
      "  Updating   : 1:openssl-1.0.2k-24.amzn2.0.11.x86_64                      12/40 \n",
      "  Updating   : 1:openssl-devel-1.0.2k-24.amzn2.0.11.x86_64                13/40 \n",
      "  Updating   : libarchive-3.1.2-14.amzn2.0.3.x86_64                       14/40 \n",
      "  Updating   : libtiff-4.0.3-35.amzn2.0.20.x86_64                         15/40 \n",
      "  Updating   : libseccomp-2.5.2-1.amzn2.x86_64                            16/40 \n",
      "  Updating   : python3-pip-20.2.2-1.amzn2.0.5.noarch                      17/40 \n",
      "  Updating   : indent-2.2.11-13.amzn2.0.3.x86_64                          18/40 \n",
      "  Updating   : 1:gmp-6.0.0-15.amzn2.0.3.x86_64                            19/40 \n",
      "  Updating   : gawk-4.0.2-4.amzn2.1.3.x86_64                              20/40 \n",
      "  Cleanup    : 1:openssl-devel-1.0.2k-24.amzn2.0.10.x86_64                21/40 \n",
      "  Cleanup    : libarchive-3.1.2-14.amzn2.0.1.x86_64                       22/40 \n",
      "  Cleanup    : avahi-glib-0.6.31-20.amzn2.0.2.x86_64                      23/40 \n",
      "  Cleanup    : 2:vim-enhanced-9.0.2081-1.amzn2.0.1.x86_64                 24/40 \n",
      "  Cleanup    : 2:vim-common-9.0.2081-1.amzn2.0.1.x86_64                   25/40 \n",
      "  Cleanup    : 1:openssl-1.0.2k-24.amzn2.0.10.x86_64                      26/40 \n",
      "  Cleanup    : 2:vim-minimal-9.0.2081-1.amzn2.0.1.x86_64                  27/40 \n",
      "  Cleanup    : libX11-1.6.7-3.amzn2.0.4.x86_64                            28/40 \n",
      "  Cleanup    : libX11-common-1.6.7-3.amzn2.0.4.noarch                     29/40 \n",
      "  Cleanup    : 2:vim-data-9.0.2081-1.amzn2.0.1.noarch                     30/40 \n",
      "  Cleanup    : 2:vim-filesystem-9.0.2081-1.amzn2.0.1.noarch               31/40 \n",
      "  Cleanup    : python3-pip-20.2.2-1.amzn2.0.4.noarch                      32/40 \n",
      "  Cleanup    : 1:openssl-libs-1.0.2k-24.amzn2.0.10.x86_64                 33/40 \n",
      "  Cleanup    : 2:xxd-9.0.2081-1.amzn2.0.1.x86_64                          34/40 \n",
      "  Cleanup    : avahi-libs-0.6.31-20.amzn2.0.2.x86_64                      35/40 \n",
      "  Cleanup    : libtiff-4.0.3-35.amzn2.0.19.x86_64                         36/40 \n",
      "  Cleanup    : libseccomp-2.4.1-1.amzn2.x86_64                            37/40 \n",
      "  Cleanup    : indent-2.2.11-13.amzn2.0.2.x86_64                          38/40 \n",
      "  Cleanup    : 1:gmp-6.0.0-15.amzn2.0.2.x86_64                            39/40 \n",
      "  Cleanup    : gawk-4.0.2-4.amzn2.1.2.x86_64                              40/40 \n",
      "  Verifying  : gawk-4.0.2-4.amzn2.1.3.x86_64                               1/40 \n",
      "  Verifying  : 1:gmp-6.0.0-15.amzn2.0.3.x86_64                             2/40 \n",
      "  Verifying  : indent-2.2.11-13.amzn2.0.3.x86_64                           3/40 \n",
      "  Verifying  : libX11-1.6.7-3.amzn2.0.5.x86_64                             4/40 \n",
      "  Verifying  : avahi-libs-0.6.31-20.amzn2.0.3.x86_64                       5/40 \n",
      "  Verifying  : python3-pip-20.2.2-1.amzn2.0.5.noarch                       6/40 \n",
      "  Verifying  : 2:vim-minimal-9.0.2120-1.amzn2.0.1.x86_64                   7/40 \n",
      "  Verifying  : libX11-common-1.6.7-3.amzn2.0.5.noarch                      8/40 \n",
      "  Verifying  : 1:openssl-1.0.2k-24.amzn2.0.11.x86_64                       9/40 \n",
      "  Verifying  : 1:openssl-libs-1.0.2k-24.amzn2.0.11.x86_64                 10/40 \n",
      "  Verifying  : 1:openssl-devel-1.0.2k-24.amzn2.0.11.x86_64                11/40 \n",
      "  Verifying  : 2:vim-enhanced-9.0.2120-1.amzn2.0.1.x86_64                 12/40 \n",
      "  Verifying  : avahi-glib-0.6.31-20.amzn2.0.3.x86_64                      13/40 \n",
      "  Verifying  : 2:xxd-9.0.2120-1.amzn2.0.1.x86_64                          14/40 \n",
      "  Verifying  : 2:vim-common-9.0.2120-1.amzn2.0.1.x86_64                   15/40 \n",
      "  Verifying  : libseccomp-2.5.2-1.amzn2.x86_64                            16/40 \n",
      "  Verifying  : libtiff-4.0.3-35.amzn2.0.20.x86_64                         17/40 \n",
      "  Verifying  : libarchive-3.1.2-14.amzn2.0.3.x86_64                       18/40 \n",
      "  Verifying  : 2:vim-filesystem-9.0.2120-1.amzn2.0.1.noarch               19/40 \n",
      "  Verifying  : 2:vim-data-9.0.2120-1.amzn2.0.1.noarch                     20/40 \n",
      "  Verifying  : python3-pip-20.2.2-1.amzn2.0.4.noarch                      21/40 \n",
      "  Verifying  : libarchive-3.1.2-14.amzn2.0.1.x86_64                       22/40 \n",
      "  Verifying  : 1:openssl-devel-1.0.2k-24.amzn2.0.10.x86_64                23/40 \n",
      "  Verifying  : 2:xxd-9.0.2081-1.amzn2.0.1.x86_64                          24/40 \n",
      "  Verifying  : 1:openssl-1.0.2k-24.amzn2.0.10.x86_64                      25/40 \n",
      "  Verifying  : 1:openssl-libs-1.0.2k-24.amzn2.0.10.x86_64                 26/40 \n",
      "  Verifying  : 2:vim-enhanced-9.0.2081-1.amzn2.0.1.x86_64                 27/40 \n",
      "  Verifying  : libseccomp-2.4.1-1.amzn2.x86_64                            28/40 \n",
      "  Verifying  : avahi-glib-0.6.31-20.amzn2.0.2.x86_64                      29/40 \n",
      "  Verifying  : 2:vim-common-9.0.2081-1.amzn2.0.1.x86_64                   30/40 \n",
      "  Verifying  : avahi-libs-0.6.31-20.amzn2.0.2.x86_64                      31/40 \n",
      "  Verifying  : libX11-common-1.6.7-3.amzn2.0.4.noarch                     32/40 \n",
      "  Verifying  : 2:vim-data-9.0.2081-1.amzn2.0.1.noarch                     33/40 \n",
      "  Verifying  : gawk-4.0.2-4.amzn2.1.2.x86_64                              34/40 \n",
      "  Verifying  : 1:gmp-6.0.0-15.amzn2.0.2.x86_64                            35/40 \n",
      "  Verifying  : 2:vim-minimal-9.0.2081-1.amzn2.0.1.x86_64                  36/40 \n",
      "  Verifying  : indent-2.2.11-13.amzn2.0.2.x86_64                          37/40 \n",
      "  Verifying  : 2:vim-filesystem-9.0.2081-1.amzn2.0.1.noarch               38/40 \n",
      "  Verifying  : libX11-1.6.7-3.amzn2.0.4.x86_64                            39/40 \n",
      "  Verifying  : libtiff-4.0.3-35.amzn2.0.19.x86_64                         40/40 \n",
      "\n",
      "Updated:\n",
      "  avahi-glib.x86_64 0:0.6.31-20.amzn2.0.3                                       \n",
      "  avahi-libs.x86_64 0:0.6.31-20.amzn2.0.3                                       \n",
      "  gawk.x86_64 0:4.0.2-4.amzn2.1.3                                               \n",
      "  gmp.x86_64 1:6.0.0-15.amzn2.0.3                                               \n",
      "  indent.x86_64 0:2.2.11-13.amzn2.0.3                                           \n",
      "  libX11.x86_64 0:1.6.7-3.amzn2.0.5                                             \n",
      "  libX11-common.noarch 0:1.6.7-3.amzn2.0.5                                      \n",
      "  libarchive.x86_64 0:3.1.2-14.amzn2.0.3                                        \n",
      "  libseccomp.x86_64 0:2.5.2-1.amzn2                                             \n",
      "  libtiff.x86_64 0:4.0.3-35.amzn2.0.20                                          \n",
      "  openssl.x86_64 1:1.0.2k-24.amzn2.0.11                                         \n",
      "  openssl-devel.x86_64 1:1.0.2k-24.amzn2.0.11                                   \n",
      "  openssl-libs.x86_64 1:1.0.2k-24.amzn2.0.11                                    \n",
      "  python3-pip.noarch 0:20.2.2-1.amzn2.0.5                                       \n",
      "  vim-common.x86_64 2:9.0.2120-1.amzn2.0.1                                      \n",
      "  vim-data.noarch 2:9.0.2120-1.amzn2.0.1                                        \n",
      "  vim-enhanced.x86_64 2:9.0.2120-1.amzn2.0.1                                    \n",
      "  vim-filesystem.noarch 2:9.0.2120-1.amzn2.0.1                                  \n",
      "  vim-minimal.x86_64 2:9.0.2120-1.amzn2.0.1                                     \n",
      "  xxd.x86_64 2:9.0.2120-1.amzn2.0.1                                             \n",
      "\n",
      "Complete!\n",
      "Loaded plugins: dkms-build-requires, extras_suggestions, kernel-livepatch,\n",
      "              : langpacks, priorities, update-motd, versionlock\n",
      "https://download.docker.com/linux/centos/2/x86_64/stable/repodata/repomd.xml: [Errno 14] HTTPS Error 404 - Not Found\n",
      "Trying other mirror.\n",
      "neuron                                                   | 2.9 kB     00:00     \n",
      "288 packages excluded due to repository priority protections\n",
      "Package amazon-linux-extras-2.0.3-1.amzn2.noarch already installed and latest version\n",
      "Nothing to do\n",
      "Installing epel-release\n",
      "Loaded plugins: dkms-build-requires, extras_suggestions, kernel-livepatch,\n",
      "              : langpacks, priorities, update-motd, versionlock\n",
      "Cleaning repos: amzn2-core amzn2extra-docker amzn2extra-epel\n",
      "              : amzn2extra-kernel-5.10 amzn2extra-livepatch amzn2extra-python3.8\n",
      "              : centos-extras\n",
      "              : copr:copr.fedorainfracloud.org:vbatts:shadow-utils-newxidmap\n",
      "              : docker-ce-stable epel libnvidia-container neuron\n",
      "34 metadata files removed\n",
      "20 sqlite files removed\n",
      "0 metadata files removed\n",
      "Loaded plugins: dkms-build-requires, extras_suggestions, kernel-livepatch,\n",
      "              : langpacks, priorities, update-motd, versionlock\n",
      "amzn2-core                                               | 3.6 kB     00:00     \n",
      "amzn2extra-docker                                        | 2.9 kB     00:00     \n",
      "amzn2extra-epel                                          | 3.0 kB     00:00     \n",
      "amzn2extra-kernel-5.10                                   | 3.0 kB     00:00     \n",
      "amzn2extra-livepatch                                     | 2.9 kB     00:00     \n",
      "amzn2extra-python3.8                                     | 2.9 kB     00:00     \n",
      "centos-extras                                            | 2.9 kB     00:00     \n",
      "copr:copr.fedorainfracloud.org:vbatts:shadow-utils-newxi | 3.3 kB     00:00     \n",
      "https://download.docker.com/linux/centos/2/x86_64/stable/repodata/repomd.xml: [Errno 14] HTTPS Error 404 - Not Found\n",
      "Trying other mirror.\n",
      "epel/x86_64/metalink                                     |  22 kB     00:00     \n",
      "epel                                                     | 4.7 kB     00:00     \n",
      "libnvidia-container/x86_64/signature                     |  833 B     00:00     \n",
      "libnvidia-container/x86_64/signature                     | 2.1 kB     00:02 !!! \n",
      "neuron                                                   | 2.9 kB     00:00     \n",
      "(1/20): amzn2-core/2/x86_64/updateinfo                     | 759 kB   00:00     \n",
      "(2/20): amzn2-core/2/x86_64/group_gz                       | 2.7 kB   00:00     \n",
      "(3/20): amzn2extra-epel/2/x86_64/primary_db                | 1.8 kB   00:00     \n",
      "(4/20): amzn2extra-kernel-5.10/2/x86_64/updateinfo         |  42 kB   00:00     \n",
      "(5/20): amzn2extra-docker/2/x86_64/updateinfo              |  13 kB   00:00     \n",
      "(6/20): amzn2extra-docker/2/x86_64/primary_db              | 105 kB   00:00     \n",
      "(7/20): amzn2extra-livepatch/2/x86_64/updateinfo           |  18 kB   00:00     \n",
      "(8/20): amzn2extra-livepatch/2/x86_64/primary_db           |  52 kB   00:00     \n",
      "(9/20): amzn2extra-epel/2/x86_64/updateinfo                |   76 B   00:00     \n",
      "(10/20): amzn2extra-python3.8/2/x86_64/updateinfo          | 4.3 kB   00:00     \n",
      "(11/20): amzn2extra-python3.8/2/x86_64/primary             |  16 kB   00:00     \n",
      "(12/20): copr:copr.fedorainfracloud.org:vbatts:shadow-util | 6.1 kB   00:00     \n",
      "(13/20): amzn2extra-kernel-5.10/2/x86_64/primary_db        |  21 MB   00:00     \n",
      "(14/20): centos-extras/primary_db                          | 250 kB   00:00     \n",
      "(15/20): epel/x86_64/group_gz                              |  99 kB   00:00     \n",
      "(16/20): epel/x86_64/updateinfo                            | 1.0 MB   00:00     \n",
      "(17/20): epel/x86_64/primary_db                            | 7.0 MB   00:00     \n",
      "(18/20): neuron/primary_db                                 | 153 kB   00:00     \n",
      "(19/20): libnvidia-container/x86_64/primary                |  32 kB   00:00     \n",
      "(20/20): amzn2-core/2/x86_64/primary_db                    |  69 MB   00:00     \n",
      "libnvidia-container                                                     211/211\n",
      "288 packages excluded due to repository priority protections\n",
      "Package epel-release-7-11.noarch already installed and latest version\n",
      "Nothing to do\n",
      "  2  httpd_modules            available  \u001b[0m  [ =1.0  =stable ]\n",
      "  3  memcached1.5             available  \u001b[0m  \\\n",
      "        [ =1.5.1  =1.5.16  =1.5.17 ]\n",
      "  9  R3.4                     available  \u001b[0m  [ =3.4.3  =stable ]\n",
      " 10  rust1                    available  \u001b[0m  \\\n",
      "        [ =1.22.1  =1.26.0  =1.26.1  =1.27.2  =1.31.0  =1.38.0\n",
      "          =stable ]\n",
      " 18  libreoffice              available  \u001b[0m  \\\n",
      "        [ =5.0.6.2_15  =5.3.6.1  =stable ]\n",
      " 19  gimp                     available  \u001b[0m  [ =2.8.22 ]\n",
      " 20 †\u001b[94mdocker=latest            enabled    \u001b[0m  \\\n",
      "        [ =17.12.1  =18.03.1  =18.06.1  =18.09.9  =stable ]\n",
      " 21  mate-desktop1.x          available  \u001b[0m  \\\n",
      "        [ =1.19.0  =1.20.0  =stable ]\n",
      " 22  GraphicsMagick1.3        available  \u001b[0m  \\\n",
      "        [ =1.3.29  =1.3.32  =1.3.34  =stable ]\n",
      " 23 †tomcat8.5                available  \u001b[0m  \\\n",
      "        [ =8.5.31  =8.5.32  =8.5.38  =8.5.40  =8.5.42  =8.5.50\n",
      "          =stable ]\n",
      " 24  \u001b[94mepel=latest              enabled    \u001b[0m  [ =7.11  =stable ]\n",
      " 25  testing                  available  \u001b[0m  [ =1.0  =stable ]\n",
      " 26  ecs                      available  \u001b[0m  [ =stable ]\n",
      " 27 †corretto8                available  \u001b[0m  \\\n",
      "        [ =1.8.0_192  =1.8.0_202  =1.8.0_212  =1.8.0_222  =1.8.0_232\n",
      "          =1.8.0_242  =stable ]\n",
      " 32  lustre2.10               available  \u001b[0m  \\\n",
      "        [ =2.10.5  =2.10.8  =stable ]\n",
      " 33 †java-openjdk11           available  \u001b[0m  [ =11  =stable ]\n",
      " 34  lynis                    available  \u001b[0m  [ =stable ]\n",
      " 36  BCC                      available  \u001b[0m  [ =0.x  =stable ]\n",
      " 37  mono                     available  \u001b[0m  [ =5.x  =stable ]\n",
      " 38  nginx1                   available  \u001b[0m  [ =stable ]\n",
      " 40  mock                     available  \u001b[0m  [ =stable ]\n",
      " 43  \u001b[94mlivepatch=latest         enabled    \u001b[0m  [ =stable ]\n",
      " 44 †\u001b[94mpython3.8=latest         enabled    \u001b[0m  [ =stable ]\n",
      " 45  haproxy2                 available  \u001b[0m  [ =stable ]\n",
      " 46  collectd                 available  \u001b[0m  [ =stable ]\n",
      " 47  aws-nitro-enclaves-cli   available  \u001b[0m  [ =stable ]\n",
      " 48  R4                       available  \u001b[0m  [ =stable ]\n",
      "  _  kernel-5.4               available  \u001b[0m  [ =stable ]\n",
      " 50  selinux-ng               available  \u001b[0m  [ =stable ]\n",
      " 52  tomcat9                  available  \u001b[0m  [ =stable ]\n",
      " 53  unbound1.13              available  \u001b[0m  [ =stable ]\n",
      " 54 †mariadb10.5              available  \u001b[0m  [ =stable ]\n",
      " 55  \u001b[94mkernel-5.10=latest       enabled    \u001b[0m  [ =stable ]\n",
      " 56  redis6                   available  \u001b[0m  [ =stable ]\n",
      " 57 †ruby3.0                  available  \u001b[0m  [ =stable ]\n",
      " 58 †postgresql12             available  \u001b[0m  [ =stable ]\n",
      " 59 †postgresql13             available  \u001b[0m  [ =stable ]\n",
      " 60  mock2                    available  \u001b[0m  [ =stable ]\n",
      " 61  dnsmasq2.85              available  \u001b[0m  [ =stable ]\n",
      " 62  kernel-5.15              available  \u001b[0m  [ =stable ]\n",
      " 63 †postgresql14             available  \u001b[0m  [ =stable ]\n",
      " 64  firefox                  available  \u001b[0m  [ =stable ]\n",
      " 65  lustre                   available  \u001b[0m  [ =stable ]\n",
      " 66 †php8.1                   available  \u001b[0m  [ =stable ]\n",
      " 67  awscli1                  available  \u001b[0m  [ =stable ]\n",
      " 68 †php8.2                   available  \u001b[0m  [ =stable ]\n",
      " 69  dnsmasq                  available  \u001b[0m  [ =stable ]\n",
      " 70  unbound1.17              available  \u001b[0m  [ =stable ]\n",
      " 72  collectd-python3         available  \u001b[0m  [ =stable ]\n",
      "† Note on end-of-support. Use 'info' subcommand.\n",
      "Loaded plugins: dkms-build-requires, extras_suggestions, kernel-livepatch,\n",
      "              : langpacks, priorities, update-motd, versionlock\n",
      "https://download.docker.com/linux/centos/2/x86_64/stable/repodata/repomd.xml: [Errno 14] HTTPS Error 404 - Not Found\n",
      "Trying other mirror.\n",
      "neuron                                                   | 2.9 kB     00:00     \n",
      "288 packages excluded due to repository priority protections\n",
      "No packages marked for update\n",
      "Loaded plugins: dkms-build-requires, extras_suggestions, kernel-livepatch,\n",
      "              : langpacks, priorities, update-motd, versionlock\n",
      "https://download.docker.com/linux/centos/2/x86_64/stable/repodata/repomd.xml: [Errno 14] HTTPS Error 404 - Not Found\n",
      "Trying other mirror.\n",
      "neuron                                                   | 2.9 kB     00:00     \n",
      "288 packages excluded due to repository priority protections\n",
      "Package git-lfs-2.10.0-2.el7.x86_64 already installed and latest version\n",
      "Package git-2.40.1-1.amzn2.0.1.x86_64 already installed and latest version\n",
      "Nothing to do\n"
     ]
    }
   ],
   "source": [
    "# For notebook instances (Amazon Linux)\n",
    "!sudo yum update -y\n",
    "!sudo yum install amazon-linux-extras\n",
    "!sudo amazon-linux-extras install epel -y\n",
    "!sudo yum update -y\n",
    "!sudo yum install git-lfs git -y"
   ]
  },
  {
   "cell_type": "code",
   "execution_count": 5,
   "id": "1df1c7e4-d22a-4088-ab70-418d751d0091",
   "metadata": {
    "tags": []
   },
   "outputs": [
    {
     "name": "stdout",
     "output_type": "stream",
     "text": [
      "https://www.wisemodel.cn/Baichuan-inc/Baichuan2-13B-Chat.git\n",
      "Updated git hooks.\n",
      "Git LFS initialized.\n",
      "fatal: destination path 'Baichuan2-13B-Chat' already exists and is not an empty directory.\n"
     ]
    }
   ],
   "source": [
    "#下载模型snapshot到本地，需要25G空间\n",
    "#需大约15-30分钟时间，请耐心等待, 如果左侧大括号内还是[*]，就还在下载中，*变成任意数例如[3]就证明已完成\n",
    "\n",
    "from pathlib import Path\n",
    "local_model_path = Path(\"./Baichuan2-13B-Chat\")\n",
    "local_model_path.mkdir(exist_ok=True)\n",
    "model_name = \"Baichuan-inc/Baichuan2-13B-Chat\"\n",
    "clone_path = f\"https://www.wisemodel.cn/{model_name}.git\"\n",
    "print(clone_path)\n",
    "\n",
    "!git lfs install\n",
    "!git clone $clone_path\n",
    "!cd ./Baichuan2-13B-Chat && rm -rf .git"
   ]
  },
  {
   "cell_type": "markdown",
   "id": "1e889dcf-a093-497d-902f-f6f130b69c01",
   "metadata": {
    "tags": []
   },
   "source": [
    "### 2. 把模型拷贝到S3为后续部署做准备"
   ]
  },
  {
   "cell_type": "code",
   "execution_count": 6,
   "id": "5ba78615-76a3-46ad-a757-bf8f71a802dd",
   "metadata": {
    "tags": []
   },
   "outputs": [
    {
     "name": "stderr",
     "output_type": "stream",
     "text": [
      "/home/ec2-user/anaconda3/envs/python3/lib/python3.10/site-packages/pandas/core/computation/expressions.py:21: UserWarning: Pandas requires version '2.8.0' or newer of 'numexpr' (version '2.7.3' currently installed).\n",
      "  from pandas.core.computation.check import NUMEXPR_INSTALLED\n"
     ]
    },
    {
     "name": "stdout",
     "output_type": "stream",
     "text": [
      "sagemaker.config INFO - Not applying SDK defaults from location: /etc/xdg/sagemaker/config.yaml\n",
      "sagemaker.config INFO - Not applying SDK defaults from location: /home/ec2-user/.config/sagemaker/config.yaml\n",
      "sagemaker.config INFO - Not applying SDK defaults from location: /etc/xdg/sagemaker/config.yaml\n",
      "sagemaker.config INFO - Not applying SDK defaults from location: /home/ec2-user/.config/sagemaker/config.yaml\n",
      "sagemaker.config INFO - Not applying SDK defaults from location: /etc/xdg/sagemaker/config.yaml\n",
      "sagemaker.config INFO - Not applying SDK defaults from location: /home/ec2-user/.config/sagemaker/config.yaml\n",
      "model_snapshot_path: Baichuan2-13B-Chat\n",
      "s3_location: s3://sagemaker-us-east-1-340636688520/llm_model/Baichuan2-13B-Chat/\n",
      "s3_code_prefix: lmi_inference_code/Baichuan2-13B-Chat\n"
     ]
    }
   ],
   "source": [
    "import sagemaker\n",
    "import boto3\n",
    "\n",
    "s3_client = boto3.client(\"s3\")\n",
    "sm_client = boto3.client(\"sagemaker\")\n",
    "smr_client = boto3.client(\"sagemaker-runtime\")\n",
    "\n",
    "role = sagemaker.get_execution_role()\n",
    "sagemaker_session = sagemaker.Session()\n",
    "sagemaker_session_bucket = sagemaker_session.default_bucket()\n",
    "\n",
    "region = sagemaker_session._region_name\n",
    "account_id = sagemaker_session.account_id()\n",
    "bucket = sagemaker_session.default_bucket()\n",
    "\n",
    "s3_code_prefix = f\"lmi_inference_code/{model_name.split('/')[-1]}\"\n",
    "\n",
    "s3_location = f\"s3://{sagemaker_session_bucket}/llm_model/{model_name.split('/')[-1]}/\"\n",
    "\n",
    "#你也可以把local_model_path直接替换成你的模型路径，例\"model_snapshot_path=./chatglm3-6b\", 这个文件夹里需要包含config.json\n",
    "model_snapshot_path = local_model_path\n",
    "\n",
    "print(f\"model_snapshot_path: {model_snapshot_path}\")\n",
    "print(\"s3_location:\",s3_location)\n",
    "print(\"s3_code_prefix:\",s3_code_prefix)"
   ]
  },
  {
   "cell_type": "code",
   "execution_count": 7,
   "id": "62f2fc81-329d-4f41-84a7-15f056a1e4a9",
   "metadata": {
    "tags": []
   },
   "outputs": [
    {
     "name": "stdout",
     "output_type": "stream",
     "text": [
      "upload: Baichuan2-13B-Chat/Baichuan2 模型社区许可协议.pdf to s3://sagemaker-us-east-1-340636688520/llm_model/Baichuan2-13B-Chat/Baichuan2 模型社区许可协议.pdf\n",
      "upload: Baichuan2-13B-Chat/configuration_baichuan.py to s3://sagemaker-us-east-1-340636688520/llm_model/Baichuan2-13B-Chat/configuration_baichuan.py\n",
      "upload: Baichuan2-13B-Chat/.gitattributes to s3://sagemaker-us-east-1-340636688520/llm_model/Baichuan2-13B-Chat/.gitattributes\n",
      "upload: Baichuan2-13B-Chat/config.json to s3://sagemaker-us-east-1-340636688520/llm_model/Baichuan2-13B-Chat/config.json\n",
      "upload: Baichuan2-13B-Chat/generation_config.json to s3://sagemaker-us-east-1-340636688520/llm_model/Baichuan2-13B-Chat/generation_config.json\n",
      "upload: Baichuan2-13B-Chat/pytorch_model.bin.index.json to s3://sagemaker-us-east-1-340636688520/llm_model/Baichuan2-13B-Chat/pytorch_model.bin.index.json\n",
      "upload: Baichuan2-13B-Chat/generation_utils.py to s3://sagemaker-us-east-1-340636688520/llm_model/Baichuan2-13B-Chat/generation_utils.py\n",
      "upload: Baichuan2-13B-Chat/README.md to s3://sagemaker-us-east-1-340636688520/llm_model/Baichuan2-13B-Chat/README.md\n",
      "upload: Baichuan2-13B-Chat/tokenization_baichuan.py to s3://sagemaker-us-east-1-340636688520/llm_model/Baichuan2-13B-Chat/tokenization_baichuan.py\n",
      "upload: Baichuan2-13B-Chat/quantizer.py to s3://sagemaker-us-east-1-340636688520/llm_model/Baichuan2-13B-Chat/quantizer.py\n",
      "upload: Baichuan2-13B-Chat/tokenizer_config.json to s3://sagemaker-us-east-1-340636688520/llm_model/Baichuan2-13B-Chat/tokenizer_config.json\n",
      "upload: Baichuan2-13B-Chat/modeling_baichuan.py to s3://sagemaker-us-east-1-340636688520/llm_model/Baichuan2-13B-Chat/modeling_baichuan.py\n",
      "upload: Baichuan2-13B-Chat/Community License for Baichuan2 Model.pdf to s3://sagemaker-us-east-1-340636688520/llm_model/Baichuan2-13B-Chat/Community License for Baichuan2 Model.pdf\n",
      "upload: Baichuan2-13B-Chat/tokenizer.model to s3://sagemaker-us-east-1-340636688520/llm_model/Baichuan2-13B-Chat/tokenizer.model\n",
      "upload: Baichuan2-13B-Chat/special_tokens_map.json to s3://sagemaker-us-east-1-340636688520/llm_model/Baichuan2-13B-Chat/special_tokens_map.json\n",
      "upload: Baichuan2-13B-Chat/pytorch_model-00003-of-00003.bin to s3://sagemaker-us-east-1-340636688520/llm_model/Baichuan2-13B-Chat/pytorch_model-00003-of-00003.bin\n",
      "upload: Baichuan2-13B-Chat/pytorch_model-00002-of-00003.bin to s3://sagemaker-us-east-1-340636688520/llm_model/Baichuan2-13B-Chat/pytorch_model-00002-of-00003.bin\n",
      "upload: Baichuan2-13B-Chat/pytorch_model-00001-of-00003.bin to s3://sagemaker-us-east-1-340636688520/llm_model/Baichuan2-13B-Chat/pytorch_model-00001-of-00003.bin\n"
     ]
    }
   ],
   "source": [
    "#上传模型\n",
    "!aws s3 sync $model_snapshot_path $s3_location"
   ]
  },
  {
   "cell_type": "markdown",
   "id": "696b70c3-90f1-4175-95bf-568bafbcd383",
   "metadata": {
    "tags": []
   },
   "source": [
    "### 3. 模型部署准备（entrypoint脚本，容器镜像，服务配置）"
   ]
  },
  {
   "cell_type": "code",
   "execution_count": 8,
   "id": "6f7c4277-4480-42c6-aee6-1fbcca94eb82",
   "metadata": {
    "tags": []
   },
   "outputs": [
    {
     "name": "stdout",
     "output_type": "stream",
     "text": [
      "Image going to be used is ---- > 763104351884.dkr.ecr.us-east-1.amazonaws.com/djl-inference:0.24.0-deepspeed0.10.0-cu118\n"
     ]
    }
   ],
   "source": [
    "inference_image_uri = (\n",
    "    f\"763104351884.dkr.ecr.{region}.amazonaws.com/djl-inference:0.24.0-deepspeed0.10.0-cu118\"\n",
    ")\n",
    "if \"cn-\" in region:\n",
    "    inference_image_uri = (\n",
    "        f\"727897471807.dkr.ecr.{region}.amazonaws.com.cn/djl-inference:0.24.0-deepspeed0.10.0-cu118\"\n",
    "    )\n",
    "\n",
    "\n",
    "print(f\"Image going to be used is ---- > {inference_image_uri}\")"
   ]
  },
  {
   "cell_type": "code",
   "execution_count": 11,
   "id": "8d771bdb-11d2-45d2-9bef-face29221838",
   "metadata": {
    "tags": []
   },
   "outputs": [],
   "source": [
    "!mkdir -p LLM_baichuan2_13b_chat_deploy_code"
   ]
  },
  {
   "cell_type": "code",
   "execution_count": 12,
   "id": "c9a3df19-fc7d-4a68-aa90-9f278262b618",
   "metadata": {
    "tags": []
   },
   "outputs": [
    {
     "name": "stdout",
     "output_type": "stream",
     "text": [
      "Writing LLM_baichuan2_13b_chat_deploy_code/model.py\n"
     ]
    }
   ],
   "source": [
    "%%writefile LLM_baichuan2_13b_chat_deploy_code/model.py\n",
    "from djl_python import Input, Output\n",
    "import torch\n",
    "import logging\n",
    "import math\n",
    "import os\n",
    "from transformers import pipeline, AutoModel, AutoTokenizer, AutoModelForCausalLM\n",
    "import transformers\n",
    "import torch\n",
    "import deepspeed\n",
    "\n",
    "from transformers.generation.utils import GenerationConfig\n",
    "\n",
    "\n",
    "def load_model(properties):\n",
    "    tensor_parallel_degree = properties[\"tensor_parallel_degree\"]\n",
    "    model_location = properties['model_dir']\n",
    "    if \"model_id\" in properties:\n",
    "        model_location = properties['model_id']\n",
    "    logging.info(f\"Loading model in {model_location}\")\n",
    "    \n",
    "    \n",
    "    print('============================tokenizer ..====================')\n",
    "    \n",
    "    tokenizer = AutoTokenizer.from_pretrained(model_location, trust_remote_code=True)\n",
    "    \n",
    "    print('============================model====================')\n",
    "    \n",
    "    model = AutoModelForCausalLM.from_pretrained(model_location, device_map=\"auto\",\n",
    "                                                 trust_remote_code=True)\n",
    "    \n",
    "    model.generation_config = GenerationConfig.from_pretrained(model_location)\n",
    "    \n",
    "    return model, tokenizer\n",
    "\n",
    "\n",
    "model = None\n",
    "tokenizer = None\n",
    "generator = None\n",
    "\n",
    "##zpf\n",
    "def construct_message(history,prompt):\n",
    "    message = []\n",
    "    for question, answer in history:\n",
    "        message.append({\"role\":\"user\",\"content\":question})\n",
    "        message.append({\"role\":\"assistant\",\"content\":answer})\n",
    "    message.append({\"role\":\"user\",\"content\":prompt})\n",
    "    return message\n",
    "def stream_items(prompt, history, max_length, top_p, temperature):\n",
    "    global model, tokenizer\n",
    "    size = 0\n",
    "    response = \"\"\n",
    "    model.generation_config.max_new_tokens = max_length\n",
    "    model.generation_config.top_p = top_p\n",
    "    \n",
    "    messages = construct_message(history,prompt)\n",
    "    res_generator = model.chat(tokenizer, messages,stream=True)\n",
    "    for response in res_generator:\n",
    "        this_response = response[size:]\n",
    "        size = len(response)\n",
    "        stream_buffer = { \"outputs\":this_response,\"finished\": False}\n",
    "        yield stream_buffer\n",
    "\n",
    "def handle(inputs: Input):\n",
    "    global model, tokenizer\n",
    "    if not model:\n",
    "        model, tokenizer = load_model(inputs.get_properties())\n",
    "\n",
    "    if inputs.is_empty():\n",
    "        return None\n",
    "    data = inputs.get_as_json()\n",
    "    \n",
    "    logging.info(\"starting debug\")\n",
    "    logging.info(f\"inputs:{data}\")\n",
    "    \n",
    "    \n",
    "    #zpf\n",
    "    input_sentences = data[\"ask\"]\n",
    "    params={}\n",
    "    if \"parameters\" in data:\n",
    "        params = data[\"parameters\"]\n",
    "    else:\n",
    "        params = {\"temperature\": data[\"temperature\"]}\n",
    "    history=[]\n",
    "    if \"history\" in data:\n",
    "        history = data[\"history\"]\n",
    "    stream=False\n",
    "    if \"stream\" in data:\n",
    "        stream = data.get('stream')\n",
    "    print(f'input prompt:{input_sentences}')  \n",
    "    outputs = Output()\n",
    "    if stream:\n",
    "        outputs.add_property(\"content-type\", \"application/jsonlines\")\n",
    "        outputs.add_stream_content(stream_items(input_sentences,history=history,**params))\n",
    "    else:\n",
    "        messages = []\n",
    "        messages.append({\"role\": \"user\", \"content\": input_sentences})\n",
    "        response = model.chat(tokenizer, messages)\n",
    "        result = {\"answer\": response}\n",
    "        outputs.add_as_json(result)\n",
    "    \n",
    "    \n",
    "    return outputs"
   ]
  },
  {
   "cell_type": "code",
   "execution_count": null,
   "id": "1a183837-abc9-4c78-b526-fe43a644d6ab",
   "metadata": {
    "tags": []
   },
   "outputs": [],
   "source": [
    "%%writefile LLM_baichuan2_13b_chat_deploy_code/model.py\n",
    "from djl_python import Input, Output\n",
    "import torch\n",
    "import logging\n",
    "import math\n",
    "import os\n",
    "from transformers import pipeline, AutoModel, AutoTokenizer, AutoModelForCausalLM\n",
    "import transformers\n",
    "import torch\n",
    "import deepspeed\n",
    "\n",
    "from transformers.generation.utils import GenerationConfig\n",
    "\n",
    "\n",
    "def load_model(properties):\n",
    "    tensor_parallel_degree = properties[\"tensor_parallel_degree\"]\n",
    "    model_location = properties['model_dir']\n",
    "    if \"model_id\" in properties:\n",
    "        model_location = properties['model_id']\n",
    "    logging.info(f\"Loading model in {model_location}\")\n",
    "    \n",
    "    \n",
    "    print('============================tokenizer====================')\n",
    "    \n",
    "    tokenizer = AutoTokenizer.from_pretrained(model_location, trust_remote_code=True)\n",
    "    \n",
    "    print('============================model====================')\n",
    "    \n",
    "    model = AutoModelForCausalLM.from_pretrained(model_location, device_map=\"balanced\",\n",
    "                                                 torch_dtype=torch.bfloat16, trust_remote_code=True)\n",
    "    \n",
    "    model.generation_config = GenerationConfig.from_pretrained(model_location)\n",
    "    print('============================model loaded====================')\n",
    "    \n",
    "    return model, tokenizer\n",
    "\n",
    "\n",
    "model = None\n",
    "tokenizer = None\n",
    "generator = None\n",
    "\n",
    "def handle(inputs: Input):\n",
    "    global model, tokenizer\n",
    "    if not model:\n",
    "        model, tokenizer = load_model(inputs.get_properties())\n",
    "\n",
    "    if inputs.is_empty():\n",
    "        return None\n",
    "    data = inputs.get_as_json()\n",
    "    \n",
    "    input_sentences = data[\"ask\"]\n",
    "    \n",
    "    params = {}\n",
    "    if \"parameters\" in data:\n",
    "        params = data[\"parameters\"]\n",
    "    \n",
    "    inputs_id = tokenizer.encode(input_sentences, return_tensors='pt').to('cuda')\n",
    "    with torch.no_grad(): \n",
    "        pred = model.generate(inputs_id, **params)\n",
    "    \n",
    "    response = tokenizer.decode(pred.cpu()[0], skip_special_tokens=True)\n",
    "    \n",
    "    # messages = []\n",
    "    # messages.append({\"role\": \"user\", \"content\": input_sentences})\n",
    "    # response = model.chat(tokenizer, messages)\n",
    "    print(response)\n",
    "    result = {\"answer\": response}\n",
    "    return Output().add_as_json(result)"
   ]
  },
  {
   "cell_type": "code",
   "execution_count": 13,
   "id": "8996fe44-8e70-468b-abc1-38187cb33f4f",
   "metadata": {
    "tags": []
   },
   "outputs": [
    {
     "name": "stdout",
     "output_type": "stream",
     "text": [
      "Writing LLM_baichuan2_13b_chat_deploy_code/serving.properties\n"
     ]
    }
   ],
   "source": [
    "%%writefile LLM_baichuan2_13b_chat_deploy_code/serving.properties\n",
    "engine=Python\n",
    "option.tensor_parallel_degree=4\n",
    "option.model_id=s3://sagemaker-us-west-2-687912291502/llm/models/LLM_baichuan_model/"
   ]
  },
  {
   "cell_type": "code",
   "execution_count": 14,
   "id": "f906d376-0ec3-4dcf-9109-8647285b80eb",
   "metadata": {
    "tags": []
   },
   "outputs": [],
   "source": [
    "#将模型的s3路径更新到inference.py中\n",
    "!sed -i 's|option.model_id=.*|option.model_id={s3_location}|' LLM_baichuan2_13b_chat_deploy_code/serving.properties"
   ]
  },
  {
   "cell_type": "code",
   "execution_count": 15,
   "id": "7b7e76c6-6dbc-47fc-9f47-4765c526ab76",
   "metadata": {
    "tags": []
   },
   "outputs": [
    {
     "name": "stdout",
     "output_type": "stream",
     "text": [
      "Writing LLM_baichuan2_13b_chat_deploy_code/requirements.txt\n"
     ]
    }
   ],
   "source": [
    "%%writefile LLM_baichuan2_13b_chat_deploy_code/requirements.txt\n",
    "-i https://pypi.tuna.tsinghua.edu.cn/simple\n",
    "transformers==4.33.1\n",
    "accelerate>=0.17.1\n",
    "einops"
   ]
  },
  {
   "cell_type": "code",
   "execution_count": 16,
   "id": "0ae6734a-aacd-410d-818d-0a962697c3c4",
   "metadata": {
    "tags": []
   },
   "outputs": [
    {
     "name": "stdout",
     "output_type": "stream",
     "text": [
      "rm: cannot remove ‘model.tar.gz’: No such file or directory\n",
      "LLM_baichuan2_13b_chat_deploy_code/\n",
      "LLM_baichuan2_13b_chat_deploy_code/requirements.txt\n",
      "LLM_baichuan2_13b_chat_deploy_code/model.py\n",
      "LLM_baichuan2_13b_chat_deploy_code/serving.properties\n"
     ]
    }
   ],
   "source": [
    "!rm model.tar.gz\n",
    "!cd LLM_baichuan2_13b_chat_deploy_code && rm -rf \".ipynb_checkpoints\"\n",
    "!tar czvf model.tar.gz LLM_baichuan2_13b_chat_deploy_code"
   ]
  },
  {
   "cell_type": "code",
   "execution_count": 17,
   "id": "0f77dc76-6d8c-4665-ba88-f03e887c136c",
   "metadata": {
    "tags": []
   },
   "outputs": [
    {
     "name": "stdout",
     "output_type": "stream",
     "text": [
      "S3 Code or Model tar ball uploaded to --- > s3://sagemaker-us-east-1-340636688520/lmi_inference_code/Baichuan2-13B-Chat/model.tar.gz\n"
     ]
    }
   ],
   "source": [
    "s3_code_artifact = sagemaker_session.upload_data(\"model.tar.gz\", bucket, s3_code_prefix)\n",
    "print(f\"S3 Code or Model tar ball uploaded to --- > {s3_code_artifact}\")"
   ]
  },
  {
   "cell_type": "markdown",
   "id": "a5853daa-b8a3-4485-8c0a-64bf83e93a18",
   "metadata": {
    "tags": []
   },
   "source": [
    "### 4. 创建模型 & 创建endpoint"
   ]
  },
  {
   "cell_type": "code",
   "execution_count": 18,
   "id": "ef974ca1-9638-45a8-9145-ea9d03b2b072",
   "metadata": {
    "tags": []
   },
   "outputs": [
    {
     "name": "stdout",
     "output_type": "stream",
     "text": [
      "dji-inference-baichuan2-13b-chat\n",
      "Image going to be used is ---- > 763104351884.dkr.ecr.us-east-1.amazonaws.com/djl-inference:0.24.0-deepspeed0.10.0-cu118\n",
      "Created Model: arn:aws:sagemaker:us-east-1:340636688520:model/dji-inference-baichuan2-13b-chat\n",
      "{'EndpointConfigArn': 'arn:aws:sagemaker:us-east-1:340636688520:endpoint-config/dji-inference-baichuan2-13b-chat', 'ResponseMetadata': {'RequestId': 'faeddc2c-51c0-4d83-a4af-2ef7f754e29a', 'HTTPStatusCode': 200, 'HTTPHeaders': {'x-amzn-requestid': 'faeddc2c-51c0-4d83-a4af-2ef7f754e29a', 'content-type': 'application/x-amz-json-1.1', 'content-length': '113', 'date': 'Mon, 18 Dec 2023 15:03:50 GMT'}, 'RetryAttempts': 0}}\n",
      "Created Endpoint: arn:aws:sagemaker:us-east-1:340636688520:endpoint/dji-inference-baichuan2-13b-chat\n"
     ]
    }
   ],
   "source": [
    "from sagemaker.utils import name_from_base\n",
    "import boto3\n",
    "\n",
    "model_name = 'dji-inference-baichuan2-13b-chat'\n",
    "print(model_name)\n",
    "print(f\"Image going to be used is ---- > {inference_image_uri}\")\n",
    "\n",
    "create_model_response = sm_client.create_model(\n",
    "    ModelName=model_name,\n",
    "    ExecutionRoleArn=role,\n",
    "    PrimaryContainer={\n",
    "        \"Image\": inference_image_uri,\n",
    "        \"ModelDataUrl\": s3_code_artifact\n",
    "    },\n",
    "    \n",
    ")\n",
    "model_arn = create_model_response[\"ModelArn\"]\n",
    "\n",
    "print(f\"Created Model: {model_arn}\")\n",
    "\n",
    "endpoint_config_name = model_name\n",
    "endpoint_name = model_name\n",
    "endpoint_config_response = sm_client.create_endpoint_config(\n",
    "    EndpointConfigName=endpoint_config_name,\n",
    "    ProductionVariants=[\n",
    "        {\n",
    "            \"VariantName\": \"variant1\",\n",
    "            \"ModelName\": model_name,\n",
    "            \"InstanceType\": \"ml.p3.8xlarge\",\n",
    "            \"InitialInstanceCount\": 1,\n",
    "            # \"VolumeSizeInGB\" : 400,\n",
    "            # \"ModelDataDownloadTimeoutInSeconds\": 2400,\n",
    "            \"ContainerStartupHealthCheckTimeoutInSeconds\": 15*60,\n",
    "        },\n",
    "    ],\n",
    ")\n",
    "\n",
    "print(endpoint_config_response)\n",
    "\n",
    "create_endpoint_response = sm_client.create_endpoint(\n",
    "    EndpointName=f\"{endpoint_name}\", EndpointConfigName=endpoint_config_name\n",
    ")\n",
    "print(f\"Created Endpoint: {create_endpoint_response['EndpointArn']}\")"
   ]
  },
  {
   "cell_type": "markdown",
   "id": "1262e826-a810-401d-a5a9-f62febb24e5f",
   "metadata": {},
   "source": [
    "#### 持续检测模型部署进度"
   ]
  },
  {
   "cell_type": "code",
   "execution_count": null,
   "id": "08969928-6b9e-4d9c-a033-a31f5f77bdfb",
   "metadata": {
    "tags": []
   },
   "outputs": [
    {
     "name": "stdout",
     "output_type": "stream",
     "text": [
      "Status: Creating\n",
      "Status: Creating\n",
      "Status: Creating\n",
      "Status: Creating\n",
      "Status: Creating\n",
      "Status: Creating\n"
     ]
    }
   ],
   "source": [
    "import time\n",
    "\n",
    "resp = sm_client.describe_endpoint(EndpointName=endpoint_name)\n",
    "status = resp[\"EndpointStatus\"]\n",
    "print(\"Status: \" + status)\n",
    "\n",
    "while status == \"Creating\":\n",
    "    time.sleep(60)\n",
    "    resp = sm_client.describe_endpoint(EndpointName=endpoint_name)\n",
    "    status = resp[\"EndpointStatus\"]\n",
    "    print(\"Status: \" + status)\n",
    "\n",
    "print(\"Arn: \" + resp[\"EndpointArn\"])\n",
    "print(\"Status: \" + status)"
   ]
  },
  {
   "cell_type": "markdown",
   "id": "4f3600e3-e381-4f9f-be04-57188856f69d",
   "metadata": {},
   "source": [
    "### 5. 模型测试"
   ]
  },
  {
   "cell_type": "code",
   "execution_count": 20,
   "id": "56c02256-d2ba-4e16-9d2e-e2d18f07bafd",
   "metadata": {
    "tags": []
   },
   "outputs": [
    {
     "ename": "ModelError",
     "evalue": "An error occurred (ModelError) when calling the InvokeEndpoint operation: Received server error (507) from primary and could not load the entire response body. See https://us-east-1.console.aws.amazon.com/cloudwatch/home?region=us-east-1#logEventViewer:group=/aws/sagemaker/Endpoints/dji-inference-baichuan2-13b-chat in account 340636688520 for more information.",
     "output_type": "error",
     "traceback": [
      "\u001b[0;31m---------------------------------------------------------------------------\u001b[0m",
      "\u001b[0;31mModelError\u001b[0m                                Traceback (most recent call last)",
      "Cell \u001b[0;32mIn[20], line 21\u001b[0m\n\u001b[1;32m     18\u001b[0m   \u001b[38;5;28;01mreturn\u001b[39;00m generated_texts\n\u001b[1;32m     20\u001b[0m \u001b[38;5;66;03m# user：和baichuan：\u001b[39;00m\n\u001b[0;32m---> 21\u001b[0m \u001b[38;5;28mprint\u001b[39m(\u001b[43mchatglm\u001b[49m\u001b[43m(\u001b[49m\u001b[38;5;124;43m\"\u001b[39;49m\u001b[38;5;124;43muser: 给我一个青海和甘肃旅游的路线，8天7晚，不超过300字. baichuan:\u001b[39;49m\u001b[38;5;124;43m\"\u001b[39;49m\u001b[43m)\u001b[49m)\n\u001b[1;32m     22\u001b[0m \u001b[38;5;66;03m# print(chatglm(prompts1))\u001b[39;00m\n",
      "Cell \u001b[0;32mIn[20], line 16\u001b[0m, in \u001b[0;36mchatglm\u001b[0;34m(prompt)\u001b[0m\n\u001b[1;32m     13\u001b[0m     \u001b[38;5;28;01mreturn\u001b[39;00m generated_text\n\u001b[1;32m     14\u001b[0m payload \u001b[38;5;241m=\u001b[39m {\u001b[38;5;124m\"\u001b[39m\u001b[38;5;124mask\u001b[39m\u001b[38;5;124m\"\u001b[39m: prompt,\n\u001b[1;32m     15\u001b[0m            \u001b[38;5;124m\"\u001b[39m\u001b[38;5;124mparameters\u001b[39m\u001b[38;5;124m\"\u001b[39m: {}}\n\u001b[0;32m---> 16\u001b[0m query_response \u001b[38;5;241m=\u001b[39m \u001b[43mquery_endpoint_with_json_payload\u001b[49m\u001b[43m(\u001b[49m\u001b[43mjson\u001b[49m\u001b[38;5;241;43m.\u001b[39;49m\u001b[43mdumps\u001b[49m\u001b[43m(\u001b[49m\u001b[43mpayload\u001b[49m\u001b[43m)\u001b[49m\u001b[38;5;241;43m.\u001b[39;49m\u001b[43mencode\u001b[49m\u001b[43m(\u001b[49m\u001b[38;5;124;43m'\u001b[39;49m\u001b[38;5;124;43mutf-8\u001b[39;49m\u001b[38;5;124;43m'\u001b[39;49m\u001b[43m)\u001b[49m\u001b[43m)\u001b[49m\n\u001b[1;32m     17\u001b[0m generated_texts \u001b[38;5;241m=\u001b[39m parse_response_texts(query_response)\n\u001b[1;32m     18\u001b[0m \u001b[38;5;28;01mreturn\u001b[39;00m generated_texts\n",
      "Cell \u001b[0;32mIn[20], line 6\u001b[0m, in \u001b[0;36mchatglm.<locals>.query_endpoint_with_json_payload\u001b[0;34m(encoded_json)\u001b[0m\n\u001b[1;32m      5\u001b[0m \u001b[38;5;28;01mdef\u001b[39;00m \u001b[38;5;21mquery_endpoint_with_json_payload\u001b[39m(encoded_json):\n\u001b[0;32m----> 6\u001b[0m   response \u001b[38;5;241m=\u001b[39m \u001b[43mruntime\u001b[49m\u001b[38;5;241;43m.\u001b[39;49m\u001b[43minvoke_endpoint\u001b[49m\u001b[43m(\u001b[49m\u001b[43mEndpointName\u001b[49m\u001b[38;5;241;43m=\u001b[39;49m\u001b[43mmodel_name\u001b[49m\u001b[43m,\u001b[49m\u001b[43m \u001b[49m\u001b[43mContentType\u001b[49m\u001b[38;5;241;43m=\u001b[39;49m\u001b[38;5;124;43m'\u001b[39;49m\u001b[38;5;124;43mapplication/json\u001b[39;49m\u001b[38;5;124;43m'\u001b[39;49m\u001b[43m,\u001b[49m\u001b[43m \u001b[49m\u001b[43mBody\u001b[49m\u001b[38;5;241;43m=\u001b[39;49m\u001b[43mencoded_json\u001b[49m\u001b[43m)\u001b[49m\n\u001b[1;32m      7\u001b[0m   \u001b[38;5;28mprint\u001b[39m(response)\n\u001b[1;32m      8\u001b[0m   \u001b[38;5;28;01mreturn\u001b[39;00m response\n",
      "File \u001b[0;32m~/anaconda3/envs/python3/lib/python3.10/site-packages/botocore/client.py:553\u001b[0m, in \u001b[0;36mClientCreator._create_api_method.<locals>._api_call\u001b[0;34m(self, *args, **kwargs)\u001b[0m\n\u001b[1;32m    549\u001b[0m     \u001b[38;5;28;01mraise\u001b[39;00m \u001b[38;5;167;01mTypeError\u001b[39;00m(\n\u001b[1;32m    550\u001b[0m         \u001b[38;5;124mf\u001b[39m\u001b[38;5;124m\"\u001b[39m\u001b[38;5;132;01m{\u001b[39;00mpy_operation_name\u001b[38;5;132;01m}\u001b[39;00m\u001b[38;5;124m() only accepts keyword arguments.\u001b[39m\u001b[38;5;124m\"\u001b[39m\n\u001b[1;32m    551\u001b[0m     )\n\u001b[1;32m    552\u001b[0m \u001b[38;5;66;03m# The \"self\" in this scope is referring to the BaseClient.\u001b[39;00m\n\u001b[0;32m--> 553\u001b[0m \u001b[38;5;28;01mreturn\u001b[39;00m \u001b[38;5;28;43mself\u001b[39;49m\u001b[38;5;241;43m.\u001b[39;49m\u001b[43m_make_api_call\u001b[49m\u001b[43m(\u001b[49m\u001b[43moperation_name\u001b[49m\u001b[43m,\u001b[49m\u001b[43m \u001b[49m\u001b[43mkwargs\u001b[49m\u001b[43m)\u001b[49m\n",
      "File \u001b[0;32m~/anaconda3/envs/python3/lib/python3.10/site-packages/botocore/client.py:1009\u001b[0m, in \u001b[0;36mBaseClient._make_api_call\u001b[0;34m(self, operation_name, api_params)\u001b[0m\n\u001b[1;32m   1005\u001b[0m     error_code \u001b[38;5;241m=\u001b[39m error_info\u001b[38;5;241m.\u001b[39mget(\u001b[38;5;124m\"\u001b[39m\u001b[38;5;124mQueryErrorCode\u001b[39m\u001b[38;5;124m\"\u001b[39m) \u001b[38;5;129;01mor\u001b[39;00m error_info\u001b[38;5;241m.\u001b[39mget(\n\u001b[1;32m   1006\u001b[0m         \u001b[38;5;124m\"\u001b[39m\u001b[38;5;124mCode\u001b[39m\u001b[38;5;124m\"\u001b[39m\n\u001b[1;32m   1007\u001b[0m     )\n\u001b[1;32m   1008\u001b[0m     error_class \u001b[38;5;241m=\u001b[39m \u001b[38;5;28mself\u001b[39m\u001b[38;5;241m.\u001b[39mexceptions\u001b[38;5;241m.\u001b[39mfrom_code(error_code)\n\u001b[0;32m-> 1009\u001b[0m     \u001b[38;5;28;01mraise\u001b[39;00m error_class(parsed_response, operation_name)\n\u001b[1;32m   1010\u001b[0m \u001b[38;5;28;01melse\u001b[39;00m:\n\u001b[1;32m   1011\u001b[0m     \u001b[38;5;28;01mreturn\u001b[39;00m parsed_response\n",
      "\u001b[0;31mModelError\u001b[0m: An error occurred (ModelError) when calling the InvokeEndpoint operation: Received server error (507) from primary and could not load the entire response body. See https://us-east-1.console.aws.amazon.com/cloudwatch/home?region=us-east-1#logEventViewer:group=/aws/sagemaker/Endpoints/dji-inference-baichuan2-13b-chat in account 340636688520 for more information."
     ]
    }
   ],
   "source": [
    "import json\n",
    "\n",
    "runtime= boto3.client('runtime.sagemaker')\n",
    "def chatglm(prompt):\n",
    "  def query_endpoint_with_json_payload(encoded_json):\n",
    "    response = runtime.invoke_endpoint(EndpointName=model_name, ContentType='application/json', Body=encoded_json)\n",
    "    print(response)\n",
    "    return response\n",
    "\n",
    "  def parse_response_texts(query_response):\n",
    "      model_predictions = json.loads(query_response['Body'].read())\n",
    "      generated_text = model_predictions[\"answer\"]\n",
    "      return generated_text\n",
    "  payload = {\"ask\": prompt,\n",
    "             \"parameters\": {}}\n",
    "  query_response = query_endpoint_with_json_payload(json.dumps(payload).encode('utf-8'))\n",
    "  generated_texts = parse_response_texts(query_response)\n",
    "  return generated_texts\n",
    "\n",
    "# user：和baichuan：\n",
    "print(chatglm(\"user: 给我一个青海和甘肃旅游的路线，8天7晚，不超过300字. baichuan:\"))\n",
    "# print(chatglm(prompts1))"
   ]
  },
  {
   "cell_type": "markdown",
   "id": "261bf6de-1f57-4c21-97e8-f08ed6580d0a",
   "metadata": {},
   "source": [
    "#### 流式输出测试"
   ]
  },
  {
   "cell_type": "code",
   "execution_count": null,
   "id": "5a62b04e-db2a-41d7-a22f-ffca881d9a6e",
   "metadata": {
    "tags": []
   },
   "outputs": [],
   "source": [
    "import json\n",
    "from tqdm import tqdm\n",
    "import time\n",
    "\n",
    "endpoint_name = model_name\n",
    "print(model_name)\n",
    "prompts1 = \"\"\"\n",
    "你是MySQL的专家。给定一个输入问题，创建一个语法正确的MySQL查询语句。\n",
    "除非用户在问题中指定了要获得的特定数量的示例，否则使用LIMIT子句查询最多3个结果。您可以对结果进行排序，以返回数据库中信息量最大的数据。您必须仅查询回答问题所需的列。将每个列名用反引号（`）括起来，表示为分隔的标识符。\n",
    "请注意，仅可以使用在下面这些表中看到的列名，不要查询不存在的列。此外，还要注意哪个列在哪个表中。如果问题涉及”今天”，请注意使用CURDATE()函数获取当前日期.\n",
    "\n",
    "使用如下格式:\n",
    "Question: 具体的问题\n",
    "SQLQuery: 运行的sql语句\n",
    "SQLResult: SQLQuery运行的结果\n",
    "Answer: 最终的回答\n",
    "\n",
    "\n",
    "使用如下的表:\n",
    "CREATE TABLE customer (\n",
    "\tc_customer_sk INTEGER NOT NULL, \n",
    "\tc_customer_id CHAR(16) NOT NULL, \n",
    "\tc_current_cdemo_sk INTEGER, \n",
    "\tc_current_hdemo_sk INTEGER, \n",
    "\tc_current_addr_sk INTEGER, \n",
    "\tc_first_shipto_date_sk INTEGER, \n",
    "\tc_first_sales_date_sk INTEGER, \n",
    "\tc_salutation CHAR(10), \n",
    "\tc_first_name CHAR(20), \n",
    "\tc_last_name CHAR(30), \n",
    "\tc_preferred_cust_flag CHAR(1), \n",
    "\tc_birth_day INTEGER, \n",
    "\tc_birth_month INTEGER, \n",
    "\tc_birth_year INTEGER, \n",
    "\tc_birth_country VARCHAR(20), \n",
    "\tc_login CHAR(13), \n",
    "\tc_email_address CHAR(50), \n",
    "\tc_last_review_date CHAR(10), \n",
    "\tPRIMARY KEY (c_customer_sk)\n",
    ")ENGINE=InnoDB DEFAULT CHARSET=utf8\n",
    "\n",
    "\n",
    "CREATE TABLE web_sales (\n",
    "\tws_sold_date_sk INTEGER, \n",
    "\tws_sold_time_sk INTEGER, \n",
    "\tws_ship_date_sk INTEGER, \n",
    "\tws_item_sk INTEGER NOT NULL, \n",
    "\tws_bill_customer_sk INTEGER, \n",
    "\tws_bill_cdemo_sk INTEGER, \n",
    "\tws_bill_hdemo_sk INTEGER, \n",
    "\tws_bill_addr_sk INTEGER, \n",
    "\tws_ship_customer_sk INTEGER, \n",
    "\tws_ship_cdemo_sk INTEGER, \n",
    "\tws_ship_hdemo_sk INTEGER, \n",
    "\tws_ship_addr_sk INTEGER, \n",
    "\tws_web_page_sk INTEGER, \n",
    "\tws_web_site_sk INTEGER, \n",
    "\tws_ship_mode_sk INTEGER, \n",
    "\tws_warehouse_sk INTEGER, \n",
    "\tws_promo_sk INTEGER, \n",
    "\tws_order_number INTEGER NOT NULL, \n",
    "\tws_quantity INTEGER, \n",
    "\tws_wholesale_cost DECIMAL(7, 2), \n",
    "\tws_list_price DECIMAL(7, 2), \n",
    "\tws_sales_price DECIMAL(7, 2), \n",
    "\tws_ext_discount_amt DECIMAL(7, 2), \n",
    "\tws_ext_sales_price DECIMAL(7, 2), \n",
    "\tws_ext_wholesale_cost DECIMAL(7, 2), \n",
    "\tws_ext_list_price DECIMAL(7, 2), \n",
    "\tws_ext_tax DECIMAL(7, 2), \n",
    "\tws_coupon_amt DECIMAL(7, 2), \n",
    "\tws_ext_ship_cost DECIMAL(7, 2), \n",
    "\tws_net_paid DECIMAL(7, 2), \n",
    "\tws_net_paid_inc_tax DECIMAL(7, 2), \n",
    "\tws_net_paid_inc_ship DECIMAL(7, 2), \n",
    "\tws_net_paid_inc_ship_tax DECIMAL(7, 2), \n",
    "\tws_net_profit DECIMAL(7, 2), \n",
    "\tPRIMARY KEY (ws_item_sk, ws_order_number)\n",
    ")ENGINE=InnoDB DEFAULT CHARSET=utf8\n",
    "\n",
    "Question: 我需要知道销售报表中，下单金额最大的客户email地址\n",
    "\"\"\"\n",
    "\n",
    "prompts2=\"给我一个青海和甘肃旅游的路线，8天7晚. 不超过50字\"\n",
    "prompts3=\"好累啊\"\n",
    "\n",
    "t0 = time.time()\n",
    "num_inputs = 0\n",
    "num_outputs = 0\n",
    "for i in tqdm(range(2)):  \n",
    "    num_inputs += len(prompts2)\n",
    "    answer = chatglm(prompts2)\n",
    "    print(answer)\n",
    "    num_outputs += len(answer)\n",
    "    \n",
    "    num_inputs += len(prompts3)\n",
    "    answer = chatglm(prompts3)\n",
    "    print(answer)\n",
    "    num_outputs += len(answer)\n",
    "t1 = time.time()\n",
    "\n",
    "print(f\"total time is {t1-t0}\")\n",
    "print(f\"average inputs is {num_inputs/(t1-t0)}\")\n",
    "print(f\"average outputs is {num_outputs/(t1-t0)}\")\n",
    "\n",
    "\n",
    "# print(\"=============================================\")\n",
    "# t0 = time.time()\n",
    "# num_inputs = 0\n",
    "# num_outputs = 0\n",
    "# for i in tqdm(range(2)):\n",
    "#     num_inputs += len(prompts1)\n",
    "#     answer = chatglm(prompts1)\n",
    "#     print(answer)\n",
    "#     num_outputs += len(answer)\n",
    "# t1 = time.time()\n",
    "# print(f\"total time is {t1-t0}\")\n",
    "# print(f\"average inputs is {num_inputs/(t1-t0)}\")\n",
    "# print(f\"average outputs is {num_outputs/(t1-t0)}\")"
   ]
  },
  {
   "cell_type": "markdown",
   "id": "21c8b703-e312-4964-8be9-a754468e07cd",
   "metadata": {},
   "source": [
    "#### 清除模型Endpoint和config"
   ]
  },
  {
   "cell_type": "code",
   "execution_count": null,
   "id": "f70d116f-4fb1-4f04-8732-3d6e4fb520de",
   "metadata": {
    "tags": []
   },
   "outputs": [],
   "source": [
    "!aws sagemaker delete-endpoint --endpoint-name $model_name"
   ]
  },
  {
   "cell_type": "code",
   "execution_count": null,
   "id": "184e4d1d-3d62-43df-9b17-5d64ece928bd",
   "metadata": {
    "tags": []
   },
   "outputs": [],
   "source": [
    "!aws sagemaker delete-endpoint-config --endpoint-config-name $model_name"
   ]
  },
  {
   "cell_type": "code",
   "execution_count": null,
   "id": "a18cdabf-c3a0-46e3-b7db-d4036d556f18",
   "metadata": {
    "tags": []
   },
   "outputs": [],
   "source": [
    "!aws sagemaker delete-model --model-name $model_name"
   ]
  },
  {
   "cell_type": "code",
   "execution_count": null,
   "id": "f4f8df7b-16e0-4bb1-b5a4-7e7e6b308b25",
   "metadata": {},
   "outputs": [],
   "source": []
  }
 ],
 "metadata": {
  "availableInstances": [
   {
    "_defaultOrder": 0,
    "_isFastLaunch": true,
    "category": "General purpose",
    "gpuNum": 0,
    "hideHardwareSpecs": false,
    "memoryGiB": 4,
    "name": "ml.t3.medium",
    "vcpuNum": 2
   },
   {
    "_defaultOrder": 1,
    "_isFastLaunch": false,
    "category": "General purpose",
    "gpuNum": 0,
    "hideHardwareSpecs": false,
    "memoryGiB": 8,
    "name": "ml.t3.large",
    "vcpuNum": 2
   },
   {
    "_defaultOrder": 2,
    "_isFastLaunch": false,
    "category": "General purpose",
    "gpuNum": 0,
    "hideHardwareSpecs": false,
    "memoryGiB": 16,
    "name": "ml.t3.xlarge",
    "vcpuNum": 4
   },
   {
    "_defaultOrder": 3,
    "_isFastLaunch": false,
    "category": "General purpose",
    "gpuNum": 0,
    "hideHardwareSpecs": false,
    "memoryGiB": 32,
    "name": "ml.t3.2xlarge",
    "vcpuNum": 8
   },
   {
    "_defaultOrder": 4,
    "_isFastLaunch": true,
    "category": "General purpose",
    "gpuNum": 0,
    "hideHardwareSpecs": false,
    "memoryGiB": 8,
    "name": "ml.m5.large",
    "vcpuNum": 2
   },
   {
    "_defaultOrder": 5,
    "_isFastLaunch": false,
    "category": "General purpose",
    "gpuNum": 0,
    "hideHardwareSpecs": false,
    "memoryGiB": 16,
    "name": "ml.m5.xlarge",
    "vcpuNum": 4
   },
   {
    "_defaultOrder": 6,
    "_isFastLaunch": false,
    "category": "General purpose",
    "gpuNum": 0,
    "hideHardwareSpecs": false,
    "memoryGiB": 32,
    "name": "ml.m5.2xlarge",
    "vcpuNum": 8
   },
   {
    "_defaultOrder": 7,
    "_isFastLaunch": false,
    "category": "General purpose",
    "gpuNum": 0,
    "hideHardwareSpecs": false,
    "memoryGiB": 64,
    "name": "ml.m5.4xlarge",
    "vcpuNum": 16
   },
   {
    "_defaultOrder": 8,
    "_isFastLaunch": false,
    "category": "General purpose",
    "gpuNum": 0,
    "hideHardwareSpecs": false,
    "memoryGiB": 128,
    "name": "ml.m5.8xlarge",
    "vcpuNum": 32
   },
   {
    "_defaultOrder": 9,
    "_isFastLaunch": false,
    "category": "General purpose",
    "gpuNum": 0,
    "hideHardwareSpecs": false,
    "memoryGiB": 192,
    "name": "ml.m5.12xlarge",
    "vcpuNum": 48
   },
   {
    "_defaultOrder": 10,
    "_isFastLaunch": false,
    "category": "General purpose",
    "gpuNum": 0,
    "hideHardwareSpecs": false,
    "memoryGiB": 256,
    "name": "ml.m5.16xlarge",
    "vcpuNum": 64
   },
   {
    "_defaultOrder": 11,
    "_isFastLaunch": false,
    "category": "General purpose",
    "gpuNum": 0,
    "hideHardwareSpecs": false,
    "memoryGiB": 384,
    "name": "ml.m5.24xlarge",
    "vcpuNum": 96
   },
   {
    "_defaultOrder": 12,
    "_isFastLaunch": false,
    "category": "General purpose",
    "gpuNum": 0,
    "hideHardwareSpecs": false,
    "memoryGiB": 8,
    "name": "ml.m5d.large",
    "vcpuNum": 2
   },
   {
    "_defaultOrder": 13,
    "_isFastLaunch": false,
    "category": "General purpose",
    "gpuNum": 0,
    "hideHardwareSpecs": false,
    "memoryGiB": 16,
    "name": "ml.m5d.xlarge",
    "vcpuNum": 4
   },
   {
    "_defaultOrder": 14,
    "_isFastLaunch": false,
    "category": "General purpose",
    "gpuNum": 0,
    "hideHardwareSpecs": false,
    "memoryGiB": 32,
    "name": "ml.m5d.2xlarge",
    "vcpuNum": 8
   },
   {
    "_defaultOrder": 15,
    "_isFastLaunch": false,
    "category": "General purpose",
    "gpuNum": 0,
    "hideHardwareSpecs": false,
    "memoryGiB": 64,
    "name": "ml.m5d.4xlarge",
    "vcpuNum": 16
   },
   {
    "_defaultOrder": 16,
    "_isFastLaunch": false,
    "category": "General purpose",
    "gpuNum": 0,
    "hideHardwareSpecs": false,
    "memoryGiB": 128,
    "name": "ml.m5d.8xlarge",
    "vcpuNum": 32
   },
   {
    "_defaultOrder": 17,
    "_isFastLaunch": false,
    "category": "General purpose",
    "gpuNum": 0,
    "hideHardwareSpecs": false,
    "memoryGiB": 192,
    "name": "ml.m5d.12xlarge",
    "vcpuNum": 48
   },
   {
    "_defaultOrder": 18,
    "_isFastLaunch": false,
    "category": "General purpose",
    "gpuNum": 0,
    "hideHardwareSpecs": false,
    "memoryGiB": 256,
    "name": "ml.m5d.16xlarge",
    "vcpuNum": 64
   },
   {
    "_defaultOrder": 19,
    "_isFastLaunch": false,
    "category": "General purpose",
    "gpuNum": 0,
    "hideHardwareSpecs": false,
    "memoryGiB": 384,
    "name": "ml.m5d.24xlarge",
    "vcpuNum": 96
   },
   {
    "_defaultOrder": 20,
    "_isFastLaunch": false,
    "category": "General purpose",
    "gpuNum": 0,
    "hideHardwareSpecs": true,
    "memoryGiB": 0,
    "name": "ml.geospatial.interactive",
    "supportedImageNames": [
     "sagemaker-geospatial-v1-0"
    ],
    "vcpuNum": 0
   },
   {
    "_defaultOrder": 21,
    "_isFastLaunch": true,
    "category": "Compute optimized",
    "gpuNum": 0,
    "hideHardwareSpecs": false,
    "memoryGiB": 4,
    "name": "ml.c5.large",
    "vcpuNum": 2
   },
   {
    "_defaultOrder": 22,
    "_isFastLaunch": false,
    "category": "Compute optimized",
    "gpuNum": 0,
    "hideHardwareSpecs": false,
    "memoryGiB": 8,
    "name": "ml.c5.xlarge",
    "vcpuNum": 4
   },
   {
    "_defaultOrder": 23,
    "_isFastLaunch": false,
    "category": "Compute optimized",
    "gpuNum": 0,
    "hideHardwareSpecs": false,
    "memoryGiB": 16,
    "name": "ml.c5.2xlarge",
    "vcpuNum": 8
   },
   {
    "_defaultOrder": 24,
    "_isFastLaunch": false,
    "category": "Compute optimized",
    "gpuNum": 0,
    "hideHardwareSpecs": false,
    "memoryGiB": 32,
    "name": "ml.c5.4xlarge",
    "vcpuNum": 16
   },
   {
    "_defaultOrder": 25,
    "_isFastLaunch": false,
    "category": "Compute optimized",
    "gpuNum": 0,
    "hideHardwareSpecs": false,
    "memoryGiB": 72,
    "name": "ml.c5.9xlarge",
    "vcpuNum": 36
   },
   {
    "_defaultOrder": 26,
    "_isFastLaunch": false,
    "category": "Compute optimized",
    "gpuNum": 0,
    "hideHardwareSpecs": false,
    "memoryGiB": 96,
    "name": "ml.c5.12xlarge",
    "vcpuNum": 48
   },
   {
    "_defaultOrder": 27,
    "_isFastLaunch": false,
    "category": "Compute optimized",
    "gpuNum": 0,
    "hideHardwareSpecs": false,
    "memoryGiB": 144,
    "name": "ml.c5.18xlarge",
    "vcpuNum": 72
   },
   {
    "_defaultOrder": 28,
    "_isFastLaunch": false,
    "category": "Compute optimized",
    "gpuNum": 0,
    "hideHardwareSpecs": false,
    "memoryGiB": 192,
    "name": "ml.c5.24xlarge",
    "vcpuNum": 96
   },
   {
    "_defaultOrder": 29,
    "_isFastLaunch": true,
    "category": "Accelerated computing",
    "gpuNum": 1,
    "hideHardwareSpecs": false,
    "memoryGiB": 16,
    "name": "ml.g4dn.xlarge",
    "vcpuNum": 4
   },
   {
    "_defaultOrder": 30,
    "_isFastLaunch": false,
    "category": "Accelerated computing",
    "gpuNum": 1,
    "hideHardwareSpecs": false,
    "memoryGiB": 32,
    "name": "ml.g4dn.2xlarge",
    "vcpuNum": 8
   },
   {
    "_defaultOrder": 31,
    "_isFastLaunch": false,
    "category": "Accelerated computing",
    "gpuNum": 1,
    "hideHardwareSpecs": false,
    "memoryGiB": 64,
    "name": "ml.g4dn.4xlarge",
    "vcpuNum": 16
   },
   {
    "_defaultOrder": 32,
    "_isFastLaunch": false,
    "category": "Accelerated computing",
    "gpuNum": 1,
    "hideHardwareSpecs": false,
    "memoryGiB": 128,
    "name": "ml.g4dn.8xlarge",
    "vcpuNum": 32
   },
   {
    "_defaultOrder": 33,
    "_isFastLaunch": false,
    "category": "Accelerated computing",
    "gpuNum": 4,
    "hideHardwareSpecs": false,
    "memoryGiB": 192,
    "name": "ml.g4dn.12xlarge",
    "vcpuNum": 48
   },
   {
    "_defaultOrder": 34,
    "_isFastLaunch": false,
    "category": "Accelerated computing",
    "gpuNum": 1,
    "hideHardwareSpecs": false,
    "memoryGiB": 256,
    "name": "ml.g4dn.16xlarge",
    "vcpuNum": 64
   },
   {
    "_defaultOrder": 35,
    "_isFastLaunch": false,
    "category": "Accelerated computing",
    "gpuNum": 1,
    "hideHardwareSpecs": false,
    "memoryGiB": 61,
    "name": "ml.p3.2xlarge",
    "vcpuNum": 8
   },
   {
    "_defaultOrder": 36,
    "_isFastLaunch": false,
    "category": "Accelerated computing",
    "gpuNum": 4,
    "hideHardwareSpecs": false,
    "memoryGiB": 244,
    "name": "ml.p3.8xlarge",
    "vcpuNum": 32
   },
   {
    "_defaultOrder": 37,
    "_isFastLaunch": false,
    "category": "Accelerated computing",
    "gpuNum": 8,
    "hideHardwareSpecs": false,
    "memoryGiB": 488,
    "name": "ml.p3.16xlarge",
    "vcpuNum": 64
   },
   {
    "_defaultOrder": 38,
    "_isFastLaunch": false,
    "category": "Accelerated computing",
    "gpuNum": 8,
    "hideHardwareSpecs": false,
    "memoryGiB": 768,
    "name": "ml.p3dn.24xlarge",
    "vcpuNum": 96
   },
   {
    "_defaultOrder": 39,
    "_isFastLaunch": false,
    "category": "Memory Optimized",
    "gpuNum": 0,
    "hideHardwareSpecs": false,
    "memoryGiB": 16,
    "name": "ml.r5.large",
    "vcpuNum": 2
   },
   {
    "_defaultOrder": 40,
    "_isFastLaunch": false,
    "category": "Memory Optimized",
    "gpuNum": 0,
    "hideHardwareSpecs": false,
    "memoryGiB": 32,
    "name": "ml.r5.xlarge",
    "vcpuNum": 4
   },
   {
    "_defaultOrder": 41,
    "_isFastLaunch": false,
    "category": "Memory Optimized",
    "gpuNum": 0,
    "hideHardwareSpecs": false,
    "memoryGiB": 64,
    "name": "ml.r5.2xlarge",
    "vcpuNum": 8
   },
   {
    "_defaultOrder": 42,
    "_isFastLaunch": false,
    "category": "Memory Optimized",
    "gpuNum": 0,
    "hideHardwareSpecs": false,
    "memoryGiB": 128,
    "name": "ml.r5.4xlarge",
    "vcpuNum": 16
   },
   {
    "_defaultOrder": 43,
    "_isFastLaunch": false,
    "category": "Memory Optimized",
    "gpuNum": 0,
    "hideHardwareSpecs": false,
    "memoryGiB": 256,
    "name": "ml.r5.8xlarge",
    "vcpuNum": 32
   },
   {
    "_defaultOrder": 44,
    "_isFastLaunch": false,
    "category": "Memory Optimized",
    "gpuNum": 0,
    "hideHardwareSpecs": false,
    "memoryGiB": 384,
    "name": "ml.r5.12xlarge",
    "vcpuNum": 48
   },
   {
    "_defaultOrder": 45,
    "_isFastLaunch": false,
    "category": "Memory Optimized",
    "gpuNum": 0,
    "hideHardwareSpecs": false,
    "memoryGiB": 512,
    "name": "ml.r5.16xlarge",
    "vcpuNum": 64
   },
   {
    "_defaultOrder": 46,
    "_isFastLaunch": false,
    "category": "Memory Optimized",
    "gpuNum": 0,
    "hideHardwareSpecs": false,
    "memoryGiB": 768,
    "name": "ml.r5.24xlarge",
    "vcpuNum": 96
   },
   {
    "_defaultOrder": 47,
    "_isFastLaunch": false,
    "category": "Accelerated computing",
    "gpuNum": 1,
    "hideHardwareSpecs": false,
    "memoryGiB": 16,
    "name": "ml.g5.xlarge",
    "vcpuNum": 4
   },
   {
    "_defaultOrder": 48,
    "_isFastLaunch": false,
    "category": "Accelerated computing",
    "gpuNum": 1,
    "hideHardwareSpecs": false,
    "memoryGiB": 32,
    "name": "ml.g5.2xlarge",
    "vcpuNum": 8
   },
   {
    "_defaultOrder": 49,
    "_isFastLaunch": false,
    "category": "Accelerated computing",
    "gpuNum": 1,
    "hideHardwareSpecs": false,
    "memoryGiB": 64,
    "name": "ml.g5.4xlarge",
    "vcpuNum": 16
   },
   {
    "_defaultOrder": 50,
    "_isFastLaunch": false,
    "category": "Accelerated computing",
    "gpuNum": 1,
    "hideHardwareSpecs": false,
    "memoryGiB": 128,
    "name": "ml.g5.8xlarge",
    "vcpuNum": 32
   },
   {
    "_defaultOrder": 51,
    "_isFastLaunch": false,
    "category": "Accelerated computing",
    "gpuNum": 1,
    "hideHardwareSpecs": false,
    "memoryGiB": 256,
    "name": "ml.g5.16xlarge",
    "vcpuNum": 64
   },
   {
    "_defaultOrder": 52,
    "_isFastLaunch": false,
    "category": "Accelerated computing",
    "gpuNum": 4,
    "hideHardwareSpecs": false,
    "memoryGiB": 192,
    "name": "ml.g5.12xlarge",
    "vcpuNum": 48
   },
   {
    "_defaultOrder": 53,
    "_isFastLaunch": false,
    "category": "Accelerated computing",
    "gpuNum": 4,
    "hideHardwareSpecs": false,
    "memoryGiB": 384,
    "name": "ml.g5.24xlarge",
    "vcpuNum": 96
   },
   {
    "_defaultOrder": 54,
    "_isFastLaunch": false,
    "category": "Accelerated computing",
    "gpuNum": 8,
    "hideHardwareSpecs": false,
    "memoryGiB": 768,
    "name": "ml.g5.48xlarge",
    "vcpuNum": 192
   }
  ],
  "instance_type": "ml.m5.large",
  "kernelspec": {
   "display_name": "conda_python3",
   "language": "python",
   "name": "conda_python3"
  },
  "language_info": {
   "codemirror_mode": {
    "name": "ipython",
    "version": 3
   },
   "file_extension": ".py",
   "mimetype": "text/x-python",
   "name": "python",
   "nbconvert_exporter": "python",
   "pygments_lexer": "ipython3",
   "version": "3.10.13"
  }
 },
 "nbformat": 4,
 "nbformat_minor": 5
}
